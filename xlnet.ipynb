{
  "metadata": {
    "colab": {
      "provenance": []
    },
    "kernelspec": {
      "name": "python3",
      "display_name": "Python 3",
      "language": "python"
    },
    "accelerator": "GPU",
    "widgets": {
      "application/vnd.jupyter.widget-state+json": {
        "bd7d4d34bd6d46ae985741702b456aaf": {
          "model_module": "@jupyter-widgets/controls",
          "model_name": "HBoxModel",
          "state": {
            "_view_name": "HBoxView",
            "_dom_classes": [],
            "_model_name": "HBoxModel",
            "_view_module": "@jupyter-widgets/controls",
            "_model_module_version": "1.5.0",
            "_view_count": null,
            "_view_module_version": "1.5.0",
            "box_style": "",
            "layout": "IPY_MODEL_e8135d40c9c4460d9ce1eb0885c562e4",
            "_model_module": "@jupyter-widgets/controls",
            "children": [
              "IPY_MODEL_0954f506d85d4723a3b32b6606db0015",
              "IPY_MODEL_297ea592ec1b44558448159860cd1aa0"
            ]
          },
          "model_module_version": "1.5.0"
        },
        "e8135d40c9c4460d9ce1eb0885c562e4": {
          "model_module": "@jupyter-widgets/base",
          "model_name": "LayoutModel",
          "state": {
            "_view_name": "LayoutView",
            "grid_template_rows": null,
            "right": null,
            "justify_content": null,
            "_view_module": "@jupyter-widgets/base",
            "overflow": null,
            "_model_module_version": "1.2.0",
            "_view_count": null,
            "flex_flow": null,
            "width": null,
            "min_width": null,
            "border": null,
            "align_items": null,
            "bottom": null,
            "_model_module": "@jupyter-widgets/base",
            "top": null,
            "grid_column": null,
            "overflow_y": null,
            "overflow_x": null,
            "grid_auto_flow": null,
            "grid_area": null,
            "grid_template_columns": null,
            "flex": null,
            "_model_name": "LayoutModel",
            "justify_items": null,
            "grid_row": null,
            "max_height": null,
            "align_content": null,
            "visibility": null,
            "align_self": null,
            "height": null,
            "min_height": null,
            "padding": null,
            "grid_auto_rows": null,
            "grid_gap": null,
            "max_width": null,
            "order": null,
            "_view_module_version": "1.2.0",
            "grid_template_areas": null,
            "object_position": null,
            "object_fit": null,
            "grid_auto_columns": null,
            "margin": null,
            "display": null,
            "left": null
          },
          "model_module_version": "1.2.0"
        },
        "0954f506d85d4723a3b32b6606db0015": {
          "model_module": "@jupyter-widgets/controls",
          "model_name": "FloatProgressModel",
          "state": {
            "_view_name": "ProgressView",
            "style": "IPY_MODEL_ed27989647d140eca7d3bf745145a3a0",
            "_dom_classes": [],
            "description": "Downloading: 100%",
            "_model_name": "FloatProgressModel",
            "bar_style": "success",
            "max": 798011,
            "_view_module": "@jupyter-widgets/controls",
            "_model_module_version": "1.5.0",
            "value": 798011,
            "_view_count": null,
            "_view_module_version": "1.5.0",
            "orientation": "horizontal",
            "min": 0,
            "description_tooltip": null,
            "_model_module": "@jupyter-widgets/controls",
            "layout": "IPY_MODEL_f97490f8dee84ccc8029e401abe1042e"
          },
          "model_module_version": "1.5.0"
        },
        "297ea592ec1b44558448159860cd1aa0": {
          "model_module": "@jupyter-widgets/controls",
          "model_name": "HTMLModel",
          "state": {
            "_view_name": "HTMLView",
            "style": "IPY_MODEL_8d146a11180d4d918cbfc302fc7d2971",
            "_dom_classes": [],
            "description": "",
            "_model_name": "HTMLModel",
            "placeholder": "​",
            "_view_module": "@jupyter-widgets/controls",
            "_model_module_version": "1.5.0",
            "value": " 798k/798k [00:37&lt;00:00, 21.2kB/s]",
            "_view_count": null,
            "_view_module_version": "1.5.0",
            "description_tooltip": null,
            "_model_module": "@jupyter-widgets/controls",
            "layout": "IPY_MODEL_73e86ec287c541d3a189620dd50c33b5"
          },
          "model_module_version": "1.5.0"
        },
        "ed27989647d140eca7d3bf745145a3a0": {
          "model_module": "@jupyter-widgets/controls",
          "model_name": "ProgressStyleModel",
          "state": {
            "_view_name": "StyleView",
            "_model_name": "ProgressStyleModel",
            "description_width": "initial",
            "_view_module": "@jupyter-widgets/base",
            "_model_module_version": "1.5.0",
            "_view_count": null,
            "_view_module_version": "1.2.0",
            "bar_color": null,
            "_model_module": "@jupyter-widgets/controls"
          },
          "model_module_version": "1.5.0"
        },
        "f97490f8dee84ccc8029e401abe1042e": {
          "model_module": "@jupyter-widgets/base",
          "model_name": "LayoutModel",
          "state": {
            "_view_name": "LayoutView",
            "grid_template_rows": null,
            "right": null,
            "justify_content": null,
            "_view_module": "@jupyter-widgets/base",
            "overflow": null,
            "_model_module_version": "1.2.0",
            "_view_count": null,
            "flex_flow": null,
            "width": null,
            "min_width": null,
            "border": null,
            "align_items": null,
            "bottom": null,
            "_model_module": "@jupyter-widgets/base",
            "top": null,
            "grid_column": null,
            "overflow_y": null,
            "overflow_x": null,
            "grid_auto_flow": null,
            "grid_area": null,
            "grid_template_columns": null,
            "flex": null,
            "_model_name": "LayoutModel",
            "justify_items": null,
            "grid_row": null,
            "max_height": null,
            "align_content": null,
            "visibility": null,
            "align_self": null,
            "height": null,
            "min_height": null,
            "padding": null,
            "grid_auto_rows": null,
            "grid_gap": null,
            "max_width": null,
            "order": null,
            "_view_module_version": "1.2.0",
            "grid_template_areas": null,
            "object_position": null,
            "object_fit": null,
            "grid_auto_columns": null,
            "margin": null,
            "display": null,
            "left": null
          },
          "model_module_version": "1.2.0"
        },
        "8d146a11180d4d918cbfc302fc7d2971": {
          "model_module": "@jupyter-widgets/controls",
          "model_name": "DescriptionStyleModel",
          "state": {
            "_view_name": "StyleView",
            "_model_name": "DescriptionStyleModel",
            "description_width": "",
            "_view_module": "@jupyter-widgets/base",
            "_model_module_version": "1.5.0",
            "_view_count": null,
            "_view_module_version": "1.2.0",
            "_model_module": "@jupyter-widgets/controls"
          },
          "model_module_version": "1.5.0"
        },
        "73e86ec287c541d3a189620dd50c33b5": {
          "model_module": "@jupyter-widgets/base",
          "model_name": "LayoutModel",
          "state": {
            "_view_name": "LayoutView",
            "grid_template_rows": null,
            "right": null,
            "justify_content": null,
            "_view_module": "@jupyter-widgets/base",
            "overflow": null,
            "_model_module_version": "1.2.0",
            "_view_count": null,
            "flex_flow": null,
            "width": null,
            "min_width": null,
            "border": null,
            "align_items": null,
            "bottom": null,
            "_model_module": "@jupyter-widgets/base",
            "top": null,
            "grid_column": null,
            "overflow_y": null,
            "overflow_x": null,
            "grid_auto_flow": null,
            "grid_area": null,
            "grid_template_columns": null,
            "flex": null,
            "_model_name": "LayoutModel",
            "justify_items": null,
            "grid_row": null,
            "max_height": null,
            "align_content": null,
            "visibility": null,
            "align_self": null,
            "height": null,
            "min_height": null,
            "padding": null,
            "grid_auto_rows": null,
            "grid_gap": null,
            "max_width": null,
            "order": null,
            "_view_module_version": "1.2.0",
            "grid_template_areas": null,
            "object_position": null,
            "object_fit": null,
            "grid_auto_columns": null,
            "margin": null,
            "display": null,
            "left": null
          },
          "model_module_version": "1.2.0"
        },
        "c2b26508fa464328b2b30c851a0366fe": {
          "model_module": "@jupyter-widgets/controls",
          "model_name": "HBoxModel",
          "state": {
            "_view_name": "HBoxView",
            "_dom_classes": [],
            "_model_name": "HBoxModel",
            "_view_module": "@jupyter-widgets/controls",
            "_model_module_version": "1.5.0",
            "_view_count": null,
            "_view_module_version": "1.5.0",
            "box_style": "",
            "layout": "IPY_MODEL_18e0ec87d07d4c0bb3930b5cef204963",
            "_model_module": "@jupyter-widgets/controls",
            "children": [
              "IPY_MODEL_bac82e5dc1974ef4ac18f743ecfb72b5",
              "IPY_MODEL_35d3d0c2b7004a6b87420e55a94ddcaf"
            ]
          },
          "model_module_version": "1.5.0"
        },
        "18e0ec87d07d4c0bb3930b5cef204963": {
          "model_module": "@jupyter-widgets/base",
          "model_name": "LayoutModel",
          "state": {
            "_view_name": "LayoutView",
            "grid_template_rows": null,
            "right": null,
            "justify_content": null,
            "_view_module": "@jupyter-widgets/base",
            "overflow": null,
            "_model_module_version": "1.2.0",
            "_view_count": null,
            "flex_flow": null,
            "width": null,
            "min_width": null,
            "border": null,
            "align_items": null,
            "bottom": null,
            "_model_module": "@jupyter-widgets/base",
            "top": null,
            "grid_column": null,
            "overflow_y": null,
            "overflow_x": null,
            "grid_auto_flow": null,
            "grid_area": null,
            "grid_template_columns": null,
            "flex": null,
            "_model_name": "LayoutModel",
            "justify_items": null,
            "grid_row": null,
            "max_height": null,
            "align_content": null,
            "visibility": null,
            "align_self": null,
            "height": null,
            "min_height": null,
            "padding": null,
            "grid_auto_rows": null,
            "grid_gap": null,
            "max_width": null,
            "order": null,
            "_view_module_version": "1.2.0",
            "grid_template_areas": null,
            "object_position": null,
            "object_fit": null,
            "grid_auto_columns": null,
            "margin": null,
            "display": null,
            "left": null
          },
          "model_module_version": "1.2.0"
        },
        "bac82e5dc1974ef4ac18f743ecfb72b5": {
          "model_module": "@jupyter-widgets/controls",
          "model_name": "FloatProgressModel",
          "state": {
            "_view_name": "ProgressView",
            "style": "IPY_MODEL_d8893bea6edb4154b051b344cae1636c",
            "_dom_classes": [],
            "description": "Downloading: 100%",
            "_model_name": "FloatProgressModel",
            "bar_style": "success",
            "max": 760,
            "_view_module": "@jupyter-widgets/controls",
            "_model_module_version": "1.5.0",
            "value": 760,
            "_view_count": null,
            "_view_module_version": "1.5.0",
            "orientation": "horizontal",
            "min": 0,
            "description_tooltip": null,
            "_model_module": "@jupyter-widgets/controls",
            "layout": "IPY_MODEL_d8c49d3421e843a6a2aadd20565ea5d2"
          },
          "model_module_version": "1.5.0"
        },
        "35d3d0c2b7004a6b87420e55a94ddcaf": {
          "model_module": "@jupyter-widgets/controls",
          "model_name": "HTMLModel",
          "state": {
            "_view_name": "HTMLView",
            "style": "IPY_MODEL_3524b098b1944e5ba752f1fbfcb50aef",
            "_dom_classes": [],
            "description": "",
            "_model_name": "HTMLModel",
            "placeholder": "​",
            "_view_module": "@jupyter-widgets/controls",
            "_model_module_version": "1.5.0",
            "value": " 760/760 [00:42&lt;00:00, 17.9B/s]",
            "_view_count": null,
            "_view_module_version": "1.5.0",
            "description_tooltip": null,
            "_model_module": "@jupyter-widgets/controls",
            "layout": "IPY_MODEL_0cba445897514d4b98192e28890df304"
          },
          "model_module_version": "1.5.0"
        },
        "d8893bea6edb4154b051b344cae1636c": {
          "model_module": "@jupyter-widgets/controls",
          "model_name": "ProgressStyleModel",
          "state": {
            "_view_name": "StyleView",
            "_model_name": "ProgressStyleModel",
            "description_width": "initial",
            "_view_module": "@jupyter-widgets/base",
            "_model_module_version": "1.5.0",
            "_view_count": null,
            "_view_module_version": "1.2.0",
            "bar_color": null,
            "_model_module": "@jupyter-widgets/controls"
          },
          "model_module_version": "1.5.0"
        },
        "d8c49d3421e843a6a2aadd20565ea5d2": {
          "model_module": "@jupyter-widgets/base",
          "model_name": "LayoutModel",
          "state": {
            "_view_name": "LayoutView",
            "grid_template_rows": null,
            "right": null,
            "justify_content": null,
            "_view_module": "@jupyter-widgets/base",
            "overflow": null,
            "_model_module_version": "1.2.0",
            "_view_count": null,
            "flex_flow": null,
            "width": null,
            "min_width": null,
            "border": null,
            "align_items": null,
            "bottom": null,
            "_model_module": "@jupyter-widgets/base",
            "top": null,
            "grid_column": null,
            "overflow_y": null,
            "overflow_x": null,
            "grid_auto_flow": null,
            "grid_area": null,
            "grid_template_columns": null,
            "flex": null,
            "_model_name": "LayoutModel",
            "justify_items": null,
            "grid_row": null,
            "max_height": null,
            "align_content": null,
            "visibility": null,
            "align_self": null,
            "height": null,
            "min_height": null,
            "padding": null,
            "grid_auto_rows": null,
            "grid_gap": null,
            "max_width": null,
            "order": null,
            "_view_module_version": "1.2.0",
            "grid_template_areas": null,
            "object_position": null,
            "object_fit": null,
            "grid_auto_columns": null,
            "margin": null,
            "display": null,
            "left": null
          },
          "model_module_version": "1.2.0"
        },
        "3524b098b1944e5ba752f1fbfcb50aef": {
          "model_module": "@jupyter-widgets/controls",
          "model_name": "DescriptionStyleModel",
          "state": {
            "_view_name": "StyleView",
            "_model_name": "DescriptionStyleModel",
            "description_width": "",
            "_view_module": "@jupyter-widgets/base",
            "_model_module_version": "1.5.0",
            "_view_count": null,
            "_view_module_version": "1.2.0",
            "_model_module": "@jupyter-widgets/controls"
          },
          "model_module_version": "1.5.0"
        },
        "0cba445897514d4b98192e28890df304": {
          "model_module": "@jupyter-widgets/base",
          "model_name": "LayoutModel",
          "state": {
            "_view_name": "LayoutView",
            "grid_template_rows": null,
            "right": null,
            "justify_content": null,
            "_view_module": "@jupyter-widgets/base",
            "overflow": null,
            "_model_module_version": "1.2.0",
            "_view_count": null,
            "flex_flow": null,
            "width": null,
            "min_width": null,
            "border": null,
            "align_items": null,
            "bottom": null,
            "_model_module": "@jupyter-widgets/base",
            "top": null,
            "grid_column": null,
            "overflow_y": null,
            "overflow_x": null,
            "grid_auto_flow": null,
            "grid_area": null,
            "grid_template_columns": null,
            "flex": null,
            "_model_name": "LayoutModel",
            "justify_items": null,
            "grid_row": null,
            "max_height": null,
            "align_content": null,
            "visibility": null,
            "align_self": null,
            "height": null,
            "min_height": null,
            "padding": null,
            "grid_auto_rows": null,
            "grid_gap": null,
            "max_width": null,
            "order": null,
            "_view_module_version": "1.2.0",
            "grid_template_areas": null,
            "object_position": null,
            "object_fit": null,
            "grid_auto_columns": null,
            "margin": null,
            "display": null,
            "left": null
          },
          "model_module_version": "1.2.0"
        },
        "62d0e9673815468ba407019771a0b2ba": {
          "model_module": "@jupyter-widgets/controls",
          "model_name": "HBoxModel",
          "state": {
            "_view_name": "HBoxView",
            "_dom_classes": [],
            "_model_name": "HBoxModel",
            "_view_module": "@jupyter-widgets/controls",
            "_model_module_version": "1.5.0",
            "_view_count": null,
            "_view_module_version": "1.5.0",
            "box_style": "",
            "layout": "IPY_MODEL_6af011b92bd3462b937cea74a2094579",
            "_model_module": "@jupyter-widgets/controls",
            "children": [
              "IPY_MODEL_47a41f0a294f42cbb2c9ec3916ca100e",
              "IPY_MODEL_3d9a5c47f9fb44ffa41f91cc37b8ee6e"
            ]
          },
          "model_module_version": "1.5.0"
        },
        "6af011b92bd3462b937cea74a2094579": {
          "model_module": "@jupyter-widgets/base",
          "model_name": "LayoutModel",
          "state": {
            "_view_name": "LayoutView",
            "grid_template_rows": null,
            "right": null,
            "justify_content": null,
            "_view_module": "@jupyter-widgets/base",
            "overflow": null,
            "_model_module_version": "1.2.0",
            "_view_count": null,
            "flex_flow": null,
            "width": null,
            "min_width": null,
            "border": null,
            "align_items": null,
            "bottom": null,
            "_model_module": "@jupyter-widgets/base",
            "top": null,
            "grid_column": null,
            "overflow_y": null,
            "overflow_x": null,
            "grid_auto_flow": null,
            "grid_area": null,
            "grid_template_columns": null,
            "flex": null,
            "_model_name": "LayoutModel",
            "justify_items": null,
            "grid_row": null,
            "max_height": null,
            "align_content": null,
            "visibility": null,
            "align_self": null,
            "height": null,
            "min_height": null,
            "padding": null,
            "grid_auto_rows": null,
            "grid_gap": null,
            "max_width": null,
            "order": null,
            "_view_module_version": "1.2.0",
            "grid_template_areas": null,
            "object_position": null,
            "object_fit": null,
            "grid_auto_columns": null,
            "margin": null,
            "display": null,
            "left": null
          },
          "model_module_version": "1.2.0"
        },
        "47a41f0a294f42cbb2c9ec3916ca100e": {
          "model_module": "@jupyter-widgets/controls",
          "model_name": "FloatProgressModel",
          "state": {
            "_view_name": "ProgressView",
            "style": "IPY_MODEL_767ef584a8ed49b4ae8ee7835208fb44",
            "_dom_classes": [],
            "description": "Downloading: 100%",
            "_model_name": "FloatProgressModel",
            "bar_style": "success",
            "max": 467042463,
            "_view_module": "@jupyter-widgets/controls",
            "_model_module_version": "1.5.0",
            "value": 467042463,
            "_view_count": null,
            "_view_module_version": "1.5.0",
            "orientation": "horizontal",
            "min": 0,
            "description_tooltip": null,
            "_model_module": "@jupyter-widgets/controls",
            "layout": "IPY_MODEL_769eba56a67d4d71b76f1240fd154a4e"
          },
          "model_module_version": "1.5.0"
        },
        "3d9a5c47f9fb44ffa41f91cc37b8ee6e": {
          "model_module": "@jupyter-widgets/controls",
          "model_name": "HTMLModel",
          "state": {
            "_view_name": "HTMLView",
            "style": "IPY_MODEL_f6cc72303ee14b548a2c4c1282a1784b",
            "_dom_classes": [],
            "description": "",
            "_model_name": "HTMLModel",
            "placeholder": "​",
            "_view_module": "@jupyter-widgets/controls",
            "_model_module_version": "1.5.0",
            "value": " 467M/467M [00:06&lt;00:00, 72.4MB/s]",
            "_view_count": null,
            "_view_module_version": "1.5.0",
            "description_tooltip": null,
            "_model_module": "@jupyter-widgets/controls",
            "layout": "IPY_MODEL_b9235fdb071742628781944bb3b6608d"
          },
          "model_module_version": "1.5.0"
        },
        "767ef584a8ed49b4ae8ee7835208fb44": {
          "model_module": "@jupyter-widgets/controls",
          "model_name": "ProgressStyleModel",
          "state": {
            "_view_name": "StyleView",
            "_model_name": "ProgressStyleModel",
            "description_width": "initial",
            "_view_module": "@jupyter-widgets/base",
            "_model_module_version": "1.5.0",
            "_view_count": null,
            "_view_module_version": "1.2.0",
            "bar_color": null,
            "_model_module": "@jupyter-widgets/controls"
          },
          "model_module_version": "1.5.0"
        },
        "769eba56a67d4d71b76f1240fd154a4e": {
          "model_module": "@jupyter-widgets/base",
          "model_name": "LayoutModel",
          "state": {
            "_view_name": "LayoutView",
            "grid_template_rows": null,
            "right": null,
            "justify_content": null,
            "_view_module": "@jupyter-widgets/base",
            "overflow": null,
            "_model_module_version": "1.2.0",
            "_view_count": null,
            "flex_flow": null,
            "width": null,
            "min_width": null,
            "border": null,
            "align_items": null,
            "bottom": null,
            "_model_module": "@jupyter-widgets/base",
            "top": null,
            "grid_column": null,
            "overflow_y": null,
            "overflow_x": null,
            "grid_auto_flow": null,
            "grid_area": null,
            "grid_template_columns": null,
            "flex": null,
            "_model_name": "LayoutModel",
            "justify_items": null,
            "grid_row": null,
            "max_height": null,
            "align_content": null,
            "visibility": null,
            "align_self": null,
            "height": null,
            "min_height": null,
            "padding": null,
            "grid_auto_rows": null,
            "grid_gap": null,
            "max_width": null,
            "order": null,
            "_view_module_version": "1.2.0",
            "grid_template_areas": null,
            "object_position": null,
            "object_fit": null,
            "grid_auto_columns": null,
            "margin": null,
            "display": null,
            "left": null
          },
          "model_module_version": "1.2.0"
        },
        "f6cc72303ee14b548a2c4c1282a1784b": {
          "model_module": "@jupyter-widgets/controls",
          "model_name": "DescriptionStyleModel",
          "state": {
            "_view_name": "StyleView",
            "_model_name": "DescriptionStyleModel",
            "description_width": "",
            "_view_module": "@jupyter-widgets/base",
            "_model_module_version": "1.5.0",
            "_view_count": null,
            "_view_module_version": "1.2.0",
            "_model_module": "@jupyter-widgets/controls"
          },
          "model_module_version": "1.5.0"
        },
        "b9235fdb071742628781944bb3b6608d": {
          "model_module": "@jupyter-widgets/base",
          "model_name": "LayoutModel",
          "state": {
            "_view_name": "LayoutView",
            "grid_template_rows": null,
            "right": null,
            "justify_content": null,
            "_view_module": "@jupyter-widgets/base",
            "overflow": null,
            "_model_module_version": "1.2.0",
            "_view_count": null,
            "flex_flow": null,
            "width": null,
            "min_width": null,
            "border": null,
            "align_items": null,
            "bottom": null,
            "_model_module": "@jupyter-widgets/base",
            "top": null,
            "grid_column": null,
            "overflow_y": null,
            "overflow_x": null,
            "grid_auto_flow": null,
            "grid_area": null,
            "grid_template_columns": null,
            "flex": null,
            "_model_name": "LayoutModel",
            "justify_items": null,
            "grid_row": null,
            "max_height": null,
            "align_content": null,
            "visibility": null,
            "align_self": null,
            "height": null,
            "min_height": null,
            "padding": null,
            "grid_auto_rows": null,
            "grid_gap": null,
            "max_width": null,
            "order": null,
            "_view_module_version": "1.2.0",
            "grid_template_areas": null,
            "object_position": null,
            "object_fit": null,
            "grid_auto_columns": null,
            "margin": null,
            "display": null,
            "left": null
          },
          "model_module_version": "1.2.0"
        }
      }
    },
    "language_info": {
      "name": "python",
      "version": "3.7.12",
      "mimetype": "text/x-python",
      "codemirror_mode": {
        "name": "ipython",
        "version": 3
      },
      "pygments_lexer": "ipython3",
      "nbconvert_exporter": "python",
      "file_extension": ".py"
    }
  },
  "nbformat_minor": 0,
  "nbformat": 4,
  "cells": [
    {
      "cell_type": "code",
      "source": [
        "!pip install transformers"
      ],
      "metadata": {
        "id": "HqQKcukJAicL",
        "outputId": "c0679dd0-d5c0-41a5-ea7d-6af990b1e378",
        "colab": {
          "base_uri": "https://localhost:8080/"
        },
        "execution": {
          "iopub.status.busy": "2023-04-26T06:09:39.430839Z",
          "iopub.execute_input": "2023-04-26T06:09:39.431681Z",
          "iopub.status.idle": "2023-04-26T06:09:51.413886Z",
          "shell.execute_reply.started": "2023-04-26T06:09:39.431635Z",
          "shell.execute_reply": "2023-04-26T06:09:51.412412Z"
        },
        "trusted": true
      },
      "execution_count": null,
      "outputs": [
        {
          "output_type": "stream",
          "name": "stdout",
          "text": [
            "Looking in indexes: https://pypi.org/simple, https://us-python.pkg.dev/colab-wheels/public/simple/\n",
            "Collecting transformers\n",
            "  Downloading transformers-4.28.1-py3-none-any.whl (7.0 MB)\n",
            "\u001b[2K     \u001b[90m━━━━━━━━━━━━━━━━━━━━━━━━━━━━━━━━━━━━━━━━\u001b[0m \u001b[32m7.0/7.0 MB\u001b[0m \u001b[31m95.3 MB/s\u001b[0m eta \u001b[36m0:00:00\u001b[0m\n",
            "\u001b[?25hRequirement already satisfied: pyyaml>=5.1 in /usr/local/lib/python3.10/dist-packages (from transformers) (6.0)\n",
            "Requirement already satisfied: regex!=2019.12.17 in /usr/local/lib/python3.10/dist-packages (from transformers) (2022.10.31)\n",
            "Requirement already satisfied: requests in /usr/local/lib/python3.10/dist-packages (from transformers) (2.27.1)\n",
            "Requirement already satisfied: filelock in /usr/local/lib/python3.10/dist-packages (from transformers) (3.12.0)\n",
            "Requirement already satisfied: tqdm>=4.27 in /usr/local/lib/python3.10/dist-packages (from transformers) (4.65.0)\n",
            "Requirement already satisfied: packaging>=20.0 in /usr/local/lib/python3.10/dist-packages (from transformers) (23.1)\n",
            "Collecting tokenizers!=0.11.3,<0.14,>=0.11.1\n",
            "  Downloading tokenizers-0.13.3-cp310-cp310-manylinux_2_17_x86_64.manylinux2014_x86_64.whl (7.8 MB)\n",
            "\u001b[2K     \u001b[90m━━━━━━━━━━━━━━━━━━━━━━━━━━━━━━━━━━━━━━━━\u001b[0m \u001b[32m7.8/7.8 MB\u001b[0m \u001b[31m106.9 MB/s\u001b[0m eta \u001b[36m0:00:00\u001b[0m\n",
            "\u001b[?25hRequirement already satisfied: numpy>=1.17 in /usr/local/lib/python3.10/dist-packages (from transformers) (1.22.4)\n",
            "Collecting huggingface-hub<1.0,>=0.11.0\n",
            "  Downloading huggingface_hub-0.14.1-py3-none-any.whl (224 kB)\n",
            "\u001b[2K     \u001b[90m━━━━━━━━━━━━━━━━━━━━━━━━━━━━━━━━━━━━━━\u001b[0m \u001b[32m224.5/224.5 kB\u001b[0m \u001b[31m29.6 MB/s\u001b[0m eta \u001b[36m0:00:00\u001b[0m\n",
            "\u001b[?25hRequirement already satisfied: typing-extensions>=3.7.4.3 in /usr/local/lib/python3.10/dist-packages (from huggingface-hub<1.0,>=0.11.0->transformers) (4.5.0)\n",
            "Requirement already satisfied: fsspec in /usr/local/lib/python3.10/dist-packages (from huggingface-hub<1.0,>=0.11.0->transformers) (2023.4.0)\n",
            "Requirement already satisfied: idna<4,>=2.5 in /usr/local/lib/python3.10/dist-packages (from requests->transformers) (3.4)\n",
            "Requirement already satisfied: certifi>=2017.4.17 in /usr/local/lib/python3.10/dist-packages (from requests->transformers) (2022.12.7)\n",
            "Requirement already satisfied: charset-normalizer~=2.0.0 in /usr/local/lib/python3.10/dist-packages (from requests->transformers) (2.0.12)\n",
            "Requirement already satisfied: urllib3<1.27,>=1.21.1 in /usr/local/lib/python3.10/dist-packages (from requests->transformers) (1.26.15)\n",
            "Installing collected packages: tokenizers, huggingface-hub, transformers\n",
            "Successfully installed huggingface-hub-0.14.1 tokenizers-0.13.3 transformers-4.28.1\n"
          ]
        }
      ]
    },
    {
      "cell_type": "code",
      "source": [
        "!pip install -q -U watermark"
      ],
      "metadata": {
        "id": "U8FRjwBo15uT",
        "execution": {
          "iopub.status.busy": "2023-04-26T06:10:05.079802Z",
          "iopub.execute_input": "2023-04-26T06:10:05.080756Z",
          "iopub.status.idle": "2023-04-26T06:10:14.855527Z",
          "shell.execute_reply.started": "2023-04-26T06:10:05.080699Z",
          "shell.execute_reply": "2023-04-26T06:10:14.854225Z"
        },
        "trusted": true,
        "outputId": "ee3173ec-a1ce-47ad-d630-169e52606565",
        "colab": {
          "base_uri": "https://localhost:8080/"
        }
      },
      "execution_count": null,
      "outputs": [
        {
          "output_type": "stream",
          "name": "stdout",
          "text": [
            "\u001b[?25l     \u001b[90m━━━━━━━━━━━━━━━━━━━━━━━━━━━━━━━━━━━━━━━━\u001b[0m \u001b[32m0.0/1.6 MB\u001b[0m \u001b[31m?\u001b[0m eta \u001b[36m-:--:--\u001b[0m\r\u001b[2K     \u001b[90m━━━━━━━━━━━━━━━━━━━━━━━━━━━━━━━━━━━━━━━━\u001b[0m \u001b[32m1.6/1.6 MB\u001b[0m \u001b[31m52.6 MB/s\u001b[0m eta \u001b[36m0:00:00\u001b[0m\n",
            "\u001b[?25h"
          ]
        }
      ]
    },
    {
      "cell_type": "code",
      "source": [
        "%reload_ext watermark\n",
        "%watermark -v -p numpy,pandas,torch,transformers"
      ],
      "metadata": {
        "id": "3DNdmQhn2D43",
        "outputId": "65de9dd4-d7b3-49ab-dcfd-ab1c88179d34",
        "colab": {
          "base_uri": "https://localhost:8080/"
        },
        "execution": {
          "iopub.status.busy": "2023-04-26T06:10:14.858373Z",
          "iopub.execute_input": "2023-04-26T06:10:14.858798Z",
          "iopub.status.idle": "2023-04-26T06:10:17.872648Z",
          "shell.execute_reply.started": "2023-04-26T06:10:14.858753Z",
          "shell.execute_reply": "2023-04-26T06:10:17.871531Z"
        },
        "trusted": true
      },
      "execution_count": null,
      "outputs": [
        {
          "output_type": "stream",
          "name": "stdout",
          "text": [
            "Python implementation: CPython\n",
            "Python version       : 3.10.11\n",
            "IPython version      : 7.34.0\n",
            "\n",
            "numpy       : 1.22.4\n",
            "pandas      : 1.5.3\n",
            "torch       : 2.0.0+cu118\n",
            "transformers: 4.28.1\n",
            "\n"
          ]
        }
      ]
    },
    {
      "cell_type": "markdown",
      "source": [
        "### Making the necessary imports"
      ],
      "metadata": {
        "id": "Mk0GnvUQIdxc"
      }
    },
    {
      "cell_type": "code",
      "source": [
        "!pip install keras_preprocessing"
      ],
      "metadata": {
        "execution": {
          "iopub.status.busy": "2023-04-26T06:10:17.874282Z",
          "iopub.execute_input": "2023-04-26T06:10:17.874923Z",
          "iopub.status.idle": "2023-04-26T06:10:27.941384Z",
          "shell.execute_reply.started": "2023-04-26T06:10:17.874882Z",
          "shell.execute_reply": "2023-04-26T06:10:27.940171Z"
        },
        "trusted": true,
        "id": "qJYBL1IDIjGB",
        "outputId": "e6db617e-c202-499e-e3f1-50b749b8ceec",
        "colab": {
          "base_uri": "https://localhost:8080/"
        }
      },
      "execution_count": null,
      "outputs": [
        {
          "output_type": "stream",
          "name": "stdout",
          "text": [
            "Looking in indexes: https://pypi.org/simple, https://us-python.pkg.dev/colab-wheels/public/simple/\n",
            "Collecting keras_preprocessing\n",
            "  Downloading Keras_Preprocessing-1.1.2-py2.py3-none-any.whl (42 kB)\n",
            "\u001b[2K     \u001b[90m━━━━━━━━━━━━━━━━━━━━━━━━━━━━━━━━━━━━━━━━\u001b[0m \u001b[32m42.6/42.6 kB\u001b[0m \u001b[31m5.7 MB/s\u001b[0m eta \u001b[36m0:00:00\u001b[0m\n",
            "\u001b[?25hRequirement already satisfied: numpy>=1.9.1 in /usr/local/lib/python3.10/dist-packages (from keras_preprocessing) (1.22.4)\n",
            "Requirement already satisfied: six>=1.9.0 in /usr/local/lib/python3.10/dist-packages (from keras_preprocessing) (1.16.0)\n",
            "Installing collected packages: keras_preprocessing\n",
            "Successfully installed keras_preprocessing-1.1.2\n"
          ]
        }
      ]
    },
    {
      "cell_type": "code",
      "source": [
        "import transformers\n",
        "from transformers import XLNetTokenizer, XLNetModel, AdamW, get_linear_schedule_with_warmup\n",
        "import torch\n",
        "\n",
        "import numpy as np\n",
        "import pandas as pd\n",
        "import seaborn as sns\n",
        "import matplotlib.pyplot as plt\n",
        "from matplotlib import rc\n",
        "from sklearn.model_selection import train_test_split\n",
        "from sklearn.metrics import confusion_matrix, classification_report, accuracy_score\n",
        "from collections import defaultdict\n",
        "from textwrap import wrap\n",
        "from pylab import rcParams\n",
        "\n",
        "from torch import nn, optim\n",
        "from keras_preprocessing.sequence import pad_sequences\n",
        "from torch.utils.data import TensorDataset,RandomSampler,SequentialSampler\n",
        "from torch.utils.data import Dataset, DataLoader\n",
        "import torch.nn.functional as F"
      ],
      "metadata": {
        "id": "dOpc8w_12D1f",
        "execution": {
          "iopub.status.busy": "2023-04-26T06:10:31.648350Z",
          "iopub.execute_input": "2023-04-26T06:10:31.649329Z",
          "iopub.status.idle": "2023-04-26T06:10:38.608398Z",
          "shell.execute_reply.started": "2023-04-26T06:10:31.649284Z",
          "shell.execute_reply": "2023-04-26T06:10:38.607316Z"
        },
        "trusted": true
      },
      "execution_count": null,
      "outputs": []
    },
    {
      "cell_type": "code",
      "source": [
        "%matplotlib inline\n",
        "%config InlineBackend.figure_format='retina'\n",
        "\n",
        "sns.set(style='whitegrid', palette='muted', font_scale=1.2)\n",
        "\n",
        "HAPPY_COLORS_PALETTE = [\"#01BEFE\", \"#FFDD00\", \"#FF7D00\", \"#FF006D\", \"#ADFF02\", \"#8F00FF\"]\n",
        "\n",
        "sns.set_palette(sns.color_palette(HAPPY_COLORS_PALETTE))\n",
        "\n",
        "rcParams['figure.figsize'] = 12, 8\n",
        "\n",
        "RANDOM_SEED = 42\n",
        "np.random.seed(RANDOM_SEED)\n",
        "torch.manual_seed(RANDOM_SEED)\n",
        "\n",
        "device = torch.device(\"cuda:0\" if torch.cuda.is_available() else \"cpu\")\n",
        "device"
      ],
      "metadata": {
        "id": "qAICzZNo2Dyw",
        "outputId": "dd0b17dd-a7d5-4f20-9244-38cd860de614",
        "colab": {
          "base_uri": "https://localhost:8080/",
          "height": 33
        },
        "execution": {
          "iopub.status.busy": "2023-04-26T06:10:38.610429Z",
          "iopub.execute_input": "2023-04-26T06:10:38.611531Z",
          "iopub.status.idle": "2023-04-26T06:10:38.677791Z",
          "shell.execute_reply.started": "2023-04-26T06:10:38.611492Z",
          "shell.execute_reply": "2023-04-26T06:10:38.676815Z"
        },
        "trusted": true
      },
      "execution_count": null,
      "outputs": [
        {
          "execution_count": 6,
          "output_type": "execute_result",
          "data": {
            "text/plain": "device(type='cuda', index=0)"
          },
          "metadata": {}
        }
      ]
    },
    {
      "cell_type": "markdown",
      "source": [
        "### Data Preprocessing"
      ],
      "metadata": {
        "id": "gC-WS1hYIxkr"
      }
    },
    {
      "cell_type": "code",
      "source": [
        "df = pd.read_csv('imdb_reviews.csv')\n",
        "df.head()"
      ],
      "metadata": {
        "id": "jJ83RaRG2Dv8",
        "outputId": "69fd3bb8-b85f-42f7-9185-e26fddbf2d11",
        "colab": {
          "base_uri": "https://localhost:8080/",
          "height": 196
        },
        "execution": {
          "iopub.status.busy": "2023-04-26T06:10:47.624218Z",
          "iopub.execute_input": "2023-04-26T06:10:47.625105Z",
          "iopub.status.idle": "2023-04-26T06:10:48.275725Z",
          "shell.execute_reply.started": "2023-04-26T06:10:47.625063Z",
          "shell.execute_reply": "2023-04-26T06:10:48.274771Z"
        },
        "trusted": true
      },
      "execution_count": null,
      "outputs": [
        {
          "execution_count": 7,
          "output_type": "execute_result",
          "data": {
            "text/plain": "                                             Reviews Sentiment\n0  <START this film was just brilliant casting lo...  positive\n1  <START bad music and a giant safety pin these ...  negative\n2  <START this has to be one of the worst films o...  negative\n3  <START the <UNK> <UNK> at storytelling the tra...  positive\n4  <START worst mistake of my life br br i picked...  negative",
            "text/html": "<div>\n<style scoped>\n    .dataframe tbody tr th:only-of-type {\n        vertical-align: middle;\n    }\n\n    .dataframe tbody tr th {\n        vertical-align: top;\n    }\n\n    .dataframe thead th {\n        text-align: right;\n    }\n</style>\n<table border=\"1\" class=\"dataframe\">\n  <thead>\n    <tr style=\"text-align: right;\">\n      <th></th>\n      <th>Reviews</th>\n      <th>Sentiment</th>\n    </tr>\n  </thead>\n  <tbody>\n    <tr>\n      <th>0</th>\n      <td>&lt;START this film was just brilliant casting lo...</td>\n      <td>positive</td>\n    </tr>\n    <tr>\n      <th>1</th>\n      <td>&lt;START bad music and a giant safety pin these ...</td>\n      <td>negative</td>\n    </tr>\n    <tr>\n      <th>2</th>\n      <td>&lt;START this has to be one of the worst films o...</td>\n      <td>negative</td>\n    </tr>\n    <tr>\n      <th>3</th>\n      <td>&lt;START the &lt;UNK&gt; &lt;UNK&gt; at storytelling the tra...</td>\n      <td>positive</td>\n    </tr>\n    <tr>\n      <th>4</th>\n      <td>&lt;START worst mistake of my life br br i picked...</td>\n      <td>negative</td>\n    </tr>\n  </tbody>\n</table>\n</div>"
          },
          "metadata": {}
        }
      ]
    },
    {
      "cell_type": "code",
      "source": [
        "from sklearn.utils import shuffle\n",
        "df = shuffle(df)\n",
        "df.head(20)"
      ],
      "metadata": {
        "id": "4J5-ddIc2DtI",
        "outputId": "fbe01f11-3cfd-405d-c00a-a945cde3a8c7",
        "colab": {
          "base_uri": "https://localhost:8080/",
          "height": 644
        },
        "execution": {
          "iopub.status.busy": "2023-04-26T06:10:51.755483Z",
          "iopub.execute_input": "2023-04-26T06:10:51.755878Z",
          "iopub.status.idle": "2023-04-26T06:10:51.775006Z",
          "shell.execute_reply.started": "2023-04-26T06:10:51.755838Z",
          "shell.execute_reply": "2023-04-26T06:10:51.773851Z"
        },
        "trusted": true
      },
      "execution_count": null,
      "outputs": [
        {
          "execution_count": 8,
          "output_type": "execute_result",
          "data": {
            "text/plain": "                                                 Reviews Sentiment\n6868   <START there's a major difference between rele...  negative\n24016  <START when a small <UNK> named <UNK> <UNK> <U...  positive\n9668   <START the characters are cliched and predicta...  negative\n13640  <START soylent green is a really good movie ac...  positive\n14018  <START the us appear to run the uk police who ...  negative\n7488   <START a film crew is shooting a horror movie ...  negative\n5804   <START i confess to have quite an uneasy feeli...  negative\n12909  <START my family and i screened underdog the n...  negative\n3386   <START when i first started watching this anim...  positive\n9567   <START this is the kind of film for a snowy su...  positive\n21423  <START when i saw the elaborate dvd box for th...  positive\n3503   <START <UNK> drive made me the definitive fan ...  positive\n6657   <START richard dreyfuss is indeed in this flic...  negative\n19192  <START this is the kind of movie which shows t...  negative\n2518   <START vanilla sky was a wonderfully thought o...  positive\n13361  <START my first opinions on this movie were of...  negative\n21135  <START what the <UNK> do we know was one of th...  negative\n21080  <START after <UNK> this was the second film fo...  positive\n6492   <START this insipid mini <UNK> featuring a edd...  negative\n6891   <START lois <UNK> self <UNK> <UNK> via the cin...  negative",
            "text/html": "<div>\n<style scoped>\n    .dataframe tbody tr th:only-of-type {\n        vertical-align: middle;\n    }\n\n    .dataframe tbody tr th {\n        vertical-align: top;\n    }\n\n    .dataframe thead th {\n        text-align: right;\n    }\n</style>\n<table border=\"1\" class=\"dataframe\">\n  <thead>\n    <tr style=\"text-align: right;\">\n      <th></th>\n      <th>Reviews</th>\n      <th>Sentiment</th>\n    </tr>\n  </thead>\n  <tbody>\n    <tr>\n      <th>6868</th>\n      <td>&lt;START there's a major difference between rele...</td>\n      <td>negative</td>\n    </tr>\n    <tr>\n      <th>24016</th>\n      <td>&lt;START when a small &lt;UNK&gt; named &lt;UNK&gt; &lt;UNK&gt; &lt;U...</td>\n      <td>positive</td>\n    </tr>\n    <tr>\n      <th>9668</th>\n      <td>&lt;START the characters are cliched and predicta...</td>\n      <td>negative</td>\n    </tr>\n    <tr>\n      <th>13640</th>\n      <td>&lt;START soylent green is a really good movie ac...</td>\n      <td>positive</td>\n    </tr>\n    <tr>\n      <th>14018</th>\n      <td>&lt;START the us appear to run the uk police who ...</td>\n      <td>negative</td>\n    </tr>\n    <tr>\n      <th>7488</th>\n      <td>&lt;START a film crew is shooting a horror movie ...</td>\n      <td>negative</td>\n    </tr>\n    <tr>\n      <th>5804</th>\n      <td>&lt;START i confess to have quite an uneasy feeli...</td>\n      <td>negative</td>\n    </tr>\n    <tr>\n      <th>12909</th>\n      <td>&lt;START my family and i screened underdog the n...</td>\n      <td>negative</td>\n    </tr>\n    <tr>\n      <th>3386</th>\n      <td>&lt;START when i first started watching this anim...</td>\n      <td>positive</td>\n    </tr>\n    <tr>\n      <th>9567</th>\n      <td>&lt;START this is the kind of film for a snowy su...</td>\n      <td>positive</td>\n    </tr>\n    <tr>\n      <th>21423</th>\n      <td>&lt;START when i saw the elaborate dvd box for th...</td>\n      <td>positive</td>\n    </tr>\n    <tr>\n      <th>3503</th>\n      <td>&lt;START &lt;UNK&gt; drive made me the definitive fan ...</td>\n      <td>positive</td>\n    </tr>\n    <tr>\n      <th>6657</th>\n      <td>&lt;START richard dreyfuss is indeed in this flic...</td>\n      <td>negative</td>\n    </tr>\n    <tr>\n      <th>19192</th>\n      <td>&lt;START this is the kind of movie which shows t...</td>\n      <td>negative</td>\n    </tr>\n    <tr>\n      <th>2518</th>\n      <td>&lt;START vanilla sky was a wonderfully thought o...</td>\n      <td>positive</td>\n    </tr>\n    <tr>\n      <th>13361</th>\n      <td>&lt;START my first opinions on this movie were of...</td>\n      <td>negative</td>\n    </tr>\n    <tr>\n      <th>21135</th>\n      <td>&lt;START what the &lt;UNK&gt; do we know was one of th...</td>\n      <td>negative</td>\n    </tr>\n    <tr>\n      <th>21080</th>\n      <td>&lt;START after &lt;UNK&gt; this was the second film fo...</td>\n      <td>positive</td>\n    </tr>\n    <tr>\n      <th>6492</th>\n      <td>&lt;START this insipid mini &lt;UNK&gt; featuring a edd...</td>\n      <td>negative</td>\n    </tr>\n    <tr>\n      <th>6891</th>\n      <td>&lt;START lois &lt;UNK&gt; self &lt;UNK&gt; &lt;UNK&gt; via the cin...</td>\n      <td>negative</td>\n    </tr>\n  </tbody>\n</table>\n</div>"
          },
          "metadata": {}
        }
      ]
    },
    {
      "cell_type": "code",
      "source": [
        "df = df[:24000]\n",
        "len(df)"
      ],
      "metadata": {
        "id": "uMSFcIqsdZyH",
        "outputId": "47589740-52a5-4744-d34f-2e3e36e7b1ec",
        "colab": {
          "base_uri": "https://localhost:8080/",
          "height": 33
        },
        "execution": {
          "iopub.status.busy": "2023-04-26T06:10:54.831988Z",
          "iopub.execute_input": "2023-04-26T06:10:54.832356Z",
          "iopub.status.idle": "2023-04-26T06:10:54.839750Z",
          "shell.execute_reply.started": "2023-04-26T06:10:54.832323Z",
          "shell.execute_reply": "2023-04-26T06:10:54.838743Z"
        },
        "trusted": true
      },
      "execution_count": null,
      "outputs": [
        {
          "execution_count": 9,
          "output_type": "execute_result",
          "data": {
            "text/plain": "24000"
          },
          "metadata": {}
        }
      ]
    },
    {
      "cell_type": "code",
      "source": [
        "import re\n",
        "def clean_text(text):\n",
        "    text = re.sub(r\"@[A-Za-z0-9]+\", ' ', text)\n",
        "    text = re.sub(r\"https?://[A-Za-z0-9./]+\", ' ', text)\n",
        "    text = re.sub(r\"[^a-zA-z.!?'0-9]\", ' ', text)\n",
        "    text = re.sub('\\t', ' ',  text)\n",
        "    text = re.sub(r\" +\", ' ', text)\n",
        "    return text"
      ],
      "metadata": {
        "id": "GluMm1Nj2DqK",
        "execution": {
          "iopub.status.busy": "2023-04-26T06:10:55.795927Z",
          "iopub.execute_input": "2023-04-26T06:10:55.796349Z",
          "iopub.status.idle": "2023-04-26T06:10:55.802681Z",
          "shell.execute_reply.started": "2023-04-26T06:10:55.796311Z",
          "shell.execute_reply": "2023-04-26T06:10:55.801460Z"
        },
        "trusted": true
      },
      "execution_count": null,
      "outputs": []
    },
    {
      "cell_type": "code",
      "source": [
        "df['Reviews'] = df['Reviews'].apply(clean_text)"
      ],
      "metadata": {
        "id": "8HpgvTb72wtm",
        "execution": {
          "iopub.status.busy": "2023-04-26T06:11:17.605406Z",
          "iopub.execute_input": "2023-04-26T06:11:17.605789Z",
          "iopub.status.idle": "2023-04-26T06:11:21.535312Z",
          "shell.execute_reply.started": "2023-04-26T06:11:17.605755Z",
          "shell.execute_reply": "2023-04-26T06:11:21.533987Z"
        },
        "trusted": true
      },
      "execution_count": null,
      "outputs": []
    },
    {
      "cell_type": "code",
      "source": [
        "def sentiment2label(sentiment):\n",
        "    if sentiment == \"positive\":\n",
        "        return 1\n",
        "    else :\n",
        "        return 0\n",
        "\n",
        "df['Sentiment'] = df['Sentiment'].apply(sentiment2label)"
      ],
      "metadata": {
        "id": "2I-Du1vR3EZN",
        "execution": {
          "iopub.status.busy": "2023-04-26T06:12:03.457102Z",
          "iopub.execute_input": "2023-04-26T06:12:03.458035Z",
          "iopub.status.idle": "2023-04-26T06:12:03.474896Z",
          "shell.execute_reply.started": "2023-04-26T06:12:03.457998Z",
          "shell.execute_reply": "2023-04-26T06:12:03.473950Z"
        },
        "trusted": true
      },
      "execution_count": null,
      "outputs": []
    },
    {
      "cell_type": "code",
      "source": [
        "df['Sentiment'].value_counts()"
      ],
      "metadata": {
        "id": "YK3jPP3i3lRw",
        "outputId": "257a6439-6471-411c-8e48-1762ba3796b5",
        "colab": {
          "base_uri": "https://localhost:8080/",
          "height": 67
        },
        "execution": {
          "iopub.status.busy": "2023-04-26T06:12:09.926201Z",
          "iopub.execute_input": "2023-04-26T06:12:09.926574Z",
          "iopub.status.idle": "2023-04-26T06:12:09.936774Z",
          "shell.execute_reply.started": "2023-04-26T06:12:09.926540Z",
          "shell.execute_reply": "2023-04-26T06:12:09.935580Z"
        },
        "trusted": true
      },
      "execution_count": null,
      "outputs": [
        {
          "execution_count": 17,
          "output_type": "execute_result",
          "data": {
            "text/plain": "1    12007\n0    11993\nName: Sentiment, dtype: int64"
          },
          "metadata": {}
        }
      ]
    },
    {
      "cell_type": "code",
      "source": [
        "class_names = ['negative', 'positive']"
      ],
      "metadata": {
        "id": "StOb4mAa3rgo",
        "execution": {
          "iopub.status.busy": "2023-04-26T06:12:12.998141Z",
          "iopub.execute_input": "2023-04-26T06:12:12.998749Z",
          "iopub.status.idle": "2023-04-26T06:12:13.003566Z",
          "shell.execute_reply.started": "2023-04-26T06:12:12.998710Z",
          "shell.execute_reply": "2023-04-26T06:12:13.002335Z"
        },
        "trusted": true
      },
      "execution_count": null,
      "outputs": []
    },
    {
      "cell_type": "markdown",
      "source": [
        "### Playing with XLNetTokenizer"
      ],
      "metadata": {
        "id": "mmBGGgUVJBpT"
      }
    },
    {
      "cell_type": "code",
      "source": [
        "from transformers import XLNetTokenizer, XLNetModel\n",
        "PRE_TRAINED_MODEL_NAME = 'xlnet-base-cased'\n",
        "tokenizer = XLNetTokenizer.from_pretrained(PRE_TRAINED_MODEL_NAME)"
      ],
      "metadata": {
        "id": "hVWO_38_32jL",
        "outputId": "81c0d90d-c134-4b43-815a-1eee3d29a947",
        "colab": {
          "base_uri": "https://localhost:8080/",
          "height": 65,
          "referenced_widgets": [
            "bd7d4d34bd6d46ae985741702b456aaf",
            "e8135d40c9c4460d9ce1eb0885c562e4",
            "0954f506d85d4723a3b32b6606db0015",
            "297ea592ec1b44558448159860cd1aa0",
            "ed27989647d140eca7d3bf745145a3a0",
            "f97490f8dee84ccc8029e401abe1042e",
            "8d146a11180d4d918cbfc302fc7d2971",
            "73e86ec287c541d3a189620dd50c33b5",
            "4abe3c5fa9754538b1c0dd7f7ddf1ab0",
            "47a29879a18a4f68b54308a63ff183cd"
          ]
        },
        "execution": {
          "iopub.status.busy": "2023-04-26T06:12:18.932843Z",
          "iopub.execute_input": "2023-04-26T06:12:18.933791Z",
          "iopub.status.idle": "2023-04-26T06:12:21.257081Z",
          "shell.execute_reply.started": "2023-04-26T06:12:18.933752Z",
          "shell.execute_reply": "2023-04-26T06:12:21.256124Z"
        },
        "trusted": true
      },
      "execution_count": null,
      "outputs": [
        {
          "output_type": "display_data",
          "data": {
            "text/plain": "Downloading (…)ve/main/spiece.model:   0%|          | 0.00/798k [00:00<?, ?B/s]",
            "application/vnd.jupyter.widget-view+json": {
              "version_major": 2,
              "version_minor": 0,
              "model_id": "4abe3c5fa9754538b1c0dd7f7ddf1ab0"
            }
          },
          "metadata": {}
        },
        {
          "output_type": "display_data",
          "data": {
            "text/plain": "Downloading (…)lve/main/config.json:   0%|          | 0.00/760 [00:00<?, ?B/s]",
            "application/vnd.jupyter.widget-view+json": {
              "version_major": 2,
              "version_minor": 0,
              "model_id": "47a29879a18a4f68b54308a63ff183cd"
            }
          },
          "metadata": {}
        }
      ]
    },
    {
      "cell_type": "code",
      "source": [
        "input_txt = \"India is my country. All Indians are my brothers and sisters\"\n",
        "encodings = tokenizer.encode_plus(input_txt, add_special_tokens=True, max_length=16, return_tensors='pt', return_token_type_ids=False, return_attention_mask=True, pad_to_max_length=False)"
      ],
      "metadata": {
        "id": "1ckpqWd_YWgZ",
        "execution": {
          "iopub.status.busy": "2023-04-26T06:12:23.197310Z",
          "iopub.execute_input": "2023-04-26T06:12:23.198429Z",
          "iopub.status.idle": "2023-04-26T06:12:23.217524Z",
          "shell.execute_reply.started": "2023-04-26T06:12:23.198377Z",
          "shell.execute_reply": "2023-04-26T06:12:23.216581Z"
        },
        "trusted": true,
        "outputId": "62538de5-58a9-4006-b700-25cd7df11f63"
      },
      "execution_count": null,
      "outputs": [
        {
          "name": "stderr",
          "text": "Truncation was not explicitly activated but `max_length` is provided a specific value, please use `truncation=True` to explicitly truncate examples to max length. Defaulting to 'longest_first' truncation strategy. If you encode pairs of sequences (GLUE-style) with the tokenizer you can select this strategy more precisely by providing a specific strategy to `truncation`.\n",
          "output_type": "stream"
        }
      ]
    },
    {
      "cell_type": "code",
      "source": [
        "print('input_ids : ',encodings['input_ids'])"
      ],
      "metadata": {
        "id": "Y_ew5njtYWc1",
        "outputId": "dc94277d-2372-48bd-c9f7-2d367c8a3341",
        "colab": {
          "base_uri": "https://localhost:8080/",
          "height": 50
        },
        "execution": {
          "iopub.status.busy": "2023-04-26T06:12:25.096305Z",
          "iopub.execute_input": "2023-04-26T06:12:25.097270Z",
          "iopub.status.idle": "2023-04-26T06:12:25.119552Z",
          "shell.execute_reply.started": "2023-04-26T06:12:25.097216Z",
          "shell.execute_reply": "2023-04-26T06:12:25.118352Z"
        },
        "trusted": true
      },
      "execution_count": null,
      "outputs": [
        {
          "name": "stdout",
          "text": "input_ids :  tensor([[ 837,   27,   94,  234,    9,  394, 7056,   41,   94, 4194,   21, 8301,\n            4,    3]])\n",
          "output_type": "stream"
        }
      ]
    },
    {
      "cell_type": "code",
      "source": [
        "tokenizer.convert_ids_to_tokens(encodings['input_ids'][0])"
      ],
      "metadata": {
        "id": "eEXfe39mYWK7",
        "outputId": "8953d12c-68ad-453c-8fd8-0cff386cf503",
        "colab": {
          "base_uri": "https://localhost:8080/",
          "height": 251
        },
        "execution": {
          "iopub.status.busy": "2023-04-26T06:12:48.435081Z",
          "iopub.execute_input": "2023-04-26T06:12:48.435694Z",
          "iopub.status.idle": "2023-04-26T06:12:48.444031Z",
          "shell.execute_reply.started": "2023-04-26T06:12:48.435651Z",
          "shell.execute_reply": "2023-04-26T06:12:48.442876Z"
        },
        "trusted": true
      },
      "execution_count": null,
      "outputs": [
        {
          "execution_count": 22,
          "output_type": "execute_result",
          "data": {
            "text/plain": "['▁India',\n '▁is',\n '▁my',\n '▁country',\n '.',\n '▁All',\n '▁Indians',\n '▁are',\n '▁my',\n '▁brothers',\n '▁and',\n '▁sisters',\n '<sep>',\n '<cls>']"
          },
          "metadata": {}
        }
      ]
    },
    {
      "cell_type": "code",
      "source": [
        "type(encodings['attention_mask'])"
      ],
      "metadata": {
        "id": "XR1xkLYtTurv",
        "outputId": "c86ef945-3963-453d-86f2-753cd7a45097",
        "colab": {
          "base_uri": "https://localhost:8080/",
          "height": 33
        },
        "execution": {
          "iopub.status.busy": "2023-04-26T06:12:51.012057Z",
          "iopub.execute_input": "2023-04-26T06:12:51.012428Z",
          "iopub.status.idle": "2023-04-26T06:12:51.019506Z",
          "shell.execute_reply.started": "2023-04-26T06:12:51.012394Z",
          "shell.execute_reply": "2023-04-26T06:12:51.018473Z"
        },
        "trusted": true
      },
      "execution_count": null,
      "outputs": [
        {
          "execution_count": 23,
          "output_type": "execute_result",
          "data": {
            "text/plain": "torch.Tensor"
          },
          "metadata": {}
        }
      ]
    },
    {
      "cell_type": "code",
      "source": [
        "attention_mask = pad_sequences(encodings['attention_mask'], maxlen=512, dtype=torch.Tensor ,truncating=\"post\",padding=\"post\")"
      ],
      "metadata": {
        "id": "Pp97KX-9UtMK",
        "execution": {
          "iopub.status.busy": "2023-04-26T06:12:53.837596Z",
          "iopub.execute_input": "2023-04-26T06:12:53.838058Z",
          "iopub.status.idle": "2023-04-26T06:12:53.850978Z",
          "shell.execute_reply.started": "2023-04-26T06:12:53.838016Z",
          "shell.execute_reply": "2023-04-26T06:12:53.849591Z"
        },
        "trusted": true
      },
      "execution_count": null,
      "outputs": []
    },
    {
      "cell_type": "code",
      "source": [
        "attention_mask = attention_mask.astype(dtype = 'int64')\n",
        "attention_mask = torch.tensor(attention_mask) \n",
        "attention_mask.flatten()"
      ],
      "metadata": {
        "id": "6Pzeyv1_UvMT",
        "outputId": "2acb94b0-943a-4273-bd71-32e62195a137",
        "colab": {
          "base_uri": "https://localhost:8080/",
          "height": 385
        },
        "execution": {
          "iopub.status.busy": "2023-04-26T06:12:58.874355Z",
          "iopub.execute_input": "2023-04-26T06:12:58.874754Z",
          "iopub.status.idle": "2023-04-26T06:12:58.893892Z",
          "shell.execute_reply.started": "2023-04-26T06:12:58.874720Z",
          "shell.execute_reply": "2023-04-26T06:12:58.892943Z"
        },
        "trusted": true
      },
      "execution_count": null,
      "outputs": [
        {
          "execution_count": 25,
          "output_type": "execute_result",
          "data": {
            "text/plain": "tensor([1, 1, 1, 1, 1, 1, 1, 1, 1, 1, 1, 1, 1, 1, 0, 0, 0, 0, 0, 0, 0, 0, 0, 0,\n        0, 0, 0, 0, 0, 0, 0, 0, 0, 0, 0, 0, 0, 0, 0, 0, 0, 0, 0, 0, 0, 0, 0, 0,\n        0, 0, 0, 0, 0, 0, 0, 0, 0, 0, 0, 0, 0, 0, 0, 0, 0, 0, 0, 0, 0, 0, 0, 0,\n        0, 0, 0, 0, 0, 0, 0, 0, 0, 0, 0, 0, 0, 0, 0, 0, 0, 0, 0, 0, 0, 0, 0, 0,\n        0, 0, 0, 0, 0, 0, 0, 0, 0, 0, 0, 0, 0, 0, 0, 0, 0, 0, 0, 0, 0, 0, 0, 0,\n        0, 0, 0, 0, 0, 0, 0, 0, 0, 0, 0, 0, 0, 0, 0, 0, 0, 0, 0, 0, 0, 0, 0, 0,\n        0, 0, 0, 0, 0, 0, 0, 0, 0, 0, 0, 0, 0, 0, 0, 0, 0, 0, 0, 0, 0, 0, 0, 0,\n        0, 0, 0, 0, 0, 0, 0, 0, 0, 0, 0, 0, 0, 0, 0, 0, 0, 0, 0, 0, 0, 0, 0, 0,\n        0, 0, 0, 0, 0, 0, 0, 0, 0, 0, 0, 0, 0, 0, 0, 0, 0, 0, 0, 0, 0, 0, 0, 0,\n        0, 0, 0, 0, 0, 0, 0, 0, 0, 0, 0, 0, 0, 0, 0, 0, 0, 0, 0, 0, 0, 0, 0, 0,\n        0, 0, 0, 0, 0, 0, 0, 0, 0, 0, 0, 0, 0, 0, 0, 0, 0, 0, 0, 0, 0, 0, 0, 0,\n        0, 0, 0, 0, 0, 0, 0, 0, 0, 0, 0, 0, 0, 0, 0, 0, 0, 0, 0, 0, 0, 0, 0, 0,\n        0, 0, 0, 0, 0, 0, 0, 0, 0, 0, 0, 0, 0, 0, 0, 0, 0, 0, 0, 0, 0, 0, 0, 0,\n        0, 0, 0, 0, 0, 0, 0, 0, 0, 0, 0, 0, 0, 0, 0, 0, 0, 0, 0, 0, 0, 0, 0, 0,\n        0, 0, 0, 0, 0, 0, 0, 0, 0, 0, 0, 0, 0, 0, 0, 0, 0, 0, 0, 0, 0, 0, 0, 0,\n        0, 0, 0, 0, 0, 0, 0, 0, 0, 0, 0, 0, 0, 0, 0, 0, 0, 0, 0, 0, 0, 0, 0, 0,\n        0, 0, 0, 0, 0, 0, 0, 0, 0, 0, 0, 0, 0, 0, 0, 0, 0, 0, 0, 0, 0, 0, 0, 0,\n        0, 0, 0, 0, 0, 0, 0, 0, 0, 0, 0, 0, 0, 0, 0, 0, 0, 0, 0, 0, 0, 0, 0, 0,\n        0, 0, 0, 0, 0, 0, 0, 0, 0, 0, 0, 0, 0, 0, 0, 0, 0, 0, 0, 0, 0, 0, 0, 0,\n        0, 0, 0, 0, 0, 0, 0, 0, 0, 0, 0, 0, 0, 0, 0, 0, 0, 0, 0, 0, 0, 0, 0, 0,\n        0, 0, 0, 0, 0, 0, 0, 0, 0, 0, 0, 0, 0, 0, 0, 0, 0, 0, 0, 0, 0, 0, 0, 0,\n        0, 0, 0, 0, 0, 0, 0, 0])"
          },
          "metadata": {}
        }
      ]
    },
    {
      "cell_type": "code",
      "source": [
        "encodings['input_ids']"
      ],
      "metadata": {
        "id": "kM7cxiA9RlnA",
        "outputId": "78b39189-c841-4174-ec97-364f2327905e",
        "colab": {
          "base_uri": "https://localhost:8080/",
          "height": 50
        },
        "execution": {
          "iopub.status.busy": "2023-04-26T06:13:08.235977Z",
          "iopub.execute_input": "2023-04-26T06:13:08.236362Z",
          "iopub.status.idle": "2023-04-26T06:13:08.244366Z",
          "shell.execute_reply.started": "2023-04-26T06:13:08.236328Z",
          "shell.execute_reply": "2023-04-26T06:13:08.243192Z"
        },
        "trusted": true
      },
      "execution_count": null,
      "outputs": [
        {
          "execution_count": 26,
          "output_type": "execute_result",
          "data": {
            "text/plain": "tensor([[ 837,   27,   94,  234,    9,  394, 7056,   41,   94, 4194,   21, 8301,\n            4,    3]])"
          },
          "metadata": {}
        }
      ]
    },
    {
      "cell_type": "markdown",
      "source": [
        "### Checking the distribution of token lengths"
      ],
      "metadata": {
        "id": "M12PPghlJUbg"
      }
    },
    {
      "cell_type": "code",
      "source": [
        "token_lens = []\n",
        "\n",
        "for txt in df['Reviews']:\n",
        "  tokens = tokenizer.encode(txt, max_length=512)\n",
        "  token_lens.append(len(tokens))"
      ],
      "metadata": {
        "id": "zW4_SrOw4BDy",
        "execution": {
          "iopub.status.busy": "2023-04-26T06:13:20.194127Z",
          "iopub.execute_input": "2023-04-26T06:13:20.194508Z",
          "iopub.status.idle": "2023-04-26T06:14:03.134051Z",
          "shell.execute_reply.started": "2023-04-26T06:13:20.194476Z",
          "shell.execute_reply": "2023-04-26T06:14:03.132965Z"
        },
        "trusted": true
      },
      "execution_count": null,
      "outputs": []
    },
    {
      "cell_type": "code",
      "source": [
        "sns.distplot(token_lens)\n",
        "plt.xlim([0, 1024]);\n",
        "plt.xlabel('Token count');"
      ],
      "metadata": {
        "id": "aSxO20TU4dz5",
        "outputId": "f8379514-5ae2-4e43-bb19-12e29d370386",
        "colab": {
          "base_uri": "https://localhost:8080/",
          "height": 398
        },
        "execution": {
          "iopub.status.busy": "2023-04-26T06:14:13.545280Z",
          "iopub.execute_input": "2023-04-26T06:14:13.545657Z",
          "iopub.status.idle": "2023-04-26T06:14:14.274870Z",
          "shell.execute_reply.started": "2023-04-26T06:14:13.545624Z",
          "shell.execute_reply": "2023-04-26T06:14:14.273622Z"
        },
        "trusted": true
      },
      "execution_count": null,
      "outputs": [
        {
          "name": "stderr",
          "text": "/opt/conda/lib/python3.7/site-packages/ipykernel_launcher.py:1: UserWarning: \n\n`distplot` is a deprecated function and will be removed in seaborn v0.14.0.\n\nPlease adapt your code to use either `displot` (a figure-level function with\nsimilar flexibility) or `histplot` (an axes-level function for histograms).\n\nFor a guide to updating your code to use the new functions, please see\nhttps://gist.github.com/mwaskom/de44147ed2974457ad6372750bbe5751\n\n  \"\"\"Entry point for launching an IPython kernel.\n",
          "output_type": "stream"
        },
        {
          "output_type": "display_data",
          "data": {
            "text/plain": "<Figure size 800x600 with 1 Axes>",
            "image/png": "[encoded data removed]"
          },
          "metadata": {
            "image/png": {
              "width": 739,
              "height": 538
            }
          }
        }
      ]
    },
    {
      "cell_type": "code",
      "source": [
        "MAX_LEN = 512"
      ],
      "metadata": {
        "id": "CR3rHUQR4pDE",
        "execution": {
          "iopub.status.busy": "2023-04-26T06:14:19.082228Z",
          "iopub.execute_input": "2023-04-26T06:14:19.082598Z",
          "iopub.status.idle": "2023-04-26T06:14:19.087454Z",
          "shell.execute_reply.started": "2023-04-26T06:14:19.082565Z",
          "shell.execute_reply": "2023-04-26T06:14:19.086389Z"
        },
        "trusted": true
      },
      "execution_count": null,
      "outputs": []
    },
    {
      "cell_type": "markdown",
      "source": [
        "### Custom Dataset class"
      ],
      "metadata": {
        "id": "e6Kutw4dJyUG"
      }
    },
    {
      "cell_type": "code",
      "source": [
        "class ImdbDataset(Dataset):\n",
        "\n",
        "    def __init__(self, reviews, targets, tokenizer, max_len):\n",
        "        self.reviews = reviews\n",
        "        self.targets = targets\n",
        "        self.tokenizer = tokenizer\n",
        "        self.max_len = max_len\n",
        "    \n",
        "    def __len__(self):\n",
        "        return len(self.reviews)\n",
        "    \n",
        "    def __getitem__(self, item):\n",
        "        review = str(self.reviews[item])\n",
        "        target = self.targets[item]\n",
        "\n",
        "        encoding = self.tokenizer.encode_plus(\n",
        "        review,\n",
        "        add_special_tokens=True,\n",
        "        max_length=self.max_len,\n",
        "        return_token_type_ids=False,\n",
        "        pad_to_max_length=False,\n",
        "        return_attention_mask=True,\n",
        "        return_tensors='pt',\n",
        "        )\n",
        "\n",
        "        input_ids = pad_sequences(encoding['input_ids'], maxlen=MAX_LEN, dtype=torch.Tensor ,truncating=\"post\",padding=\"post\")\n",
        "        input_ids = input_ids.astype(dtype = 'int64')\n",
        "        input_ids = torch.tensor(input_ids) \n",
        "\n",
        "        attention_mask = pad_sequences(encoding['attention_mask'], maxlen=MAX_LEN, dtype=torch.Tensor ,truncating=\"post\",padding=\"post\")\n",
        "        attention_mask = attention_mask.astype(dtype = 'int64')\n",
        "        attention_mask = torch.tensor(attention_mask)       \n",
        "\n",
        "        return {\n",
        "        'review_text': review,\n",
        "        'input_ids': input_ids,\n",
        "        'attention_mask': attention_mask.flatten(),\n",
        "        'targets': torch.tensor(target, dtype=torch.long)\n",
        "        }"
      ],
      "metadata": {
        "id": "q2NOYXcjPK4z",
        "execution": {
          "iopub.status.busy": "2023-04-26T06:14:22.861224Z",
          "iopub.execute_input": "2023-04-26T06:14:22.861594Z",
          "iopub.status.idle": "2023-04-26T06:14:22.872020Z",
          "shell.execute_reply.started": "2023-04-26T06:14:22.861561Z",
          "shell.execute_reply": "2023-04-26T06:14:22.870794Z"
        },
        "trusted": true
      },
      "execution_count": null,
      "outputs": []
    },
    {
      "cell_type": "code",
      "source": [
        "df_train, df_test = train_test_split(df, test_size=0.5, random_state=101)\n",
        "df_val, df_test = train_test_split(df_test, test_size=0.5, random_state=101)"
      ],
      "metadata": {
        "id": "wYXt2AtW6iaT",
        "execution": {
          "iopub.status.busy": "2023-04-26T06:14:23.941354Z",
          "iopub.execute_input": "2023-04-26T06:14:23.942174Z",
          "iopub.status.idle": "2023-04-26T06:14:23.954562Z",
          "shell.execute_reply.started": "2023-04-26T06:14:23.942112Z",
          "shell.execute_reply": "2023-04-26T06:14:23.953355Z"
        },
        "trusted": true
      },
      "execution_count": null,
      "outputs": []
    },
    {
      "cell_type": "code",
      "source": [
        "df_train.shape, df_val.shape, df_test.shape"
      ],
      "metadata": {
        "id": "VmAsa9pg6oac",
        "outputId": "7733a944-55b3-4181-f84a-be27f5eb3119",
        "colab": {
          "base_uri": "https://localhost:8080/",
          "height": 33
        },
        "execution": {
          "iopub.status.busy": "2023-04-26T06:14:25.098613Z",
          "iopub.execute_input": "2023-04-26T06:14:25.099355Z",
          "iopub.status.idle": "2023-04-26T06:14:25.106640Z",
          "shell.execute_reply.started": "2023-04-26T06:14:25.099316Z",
          "shell.execute_reply": "2023-04-26T06:14:25.105303Z"
        },
        "trusted": true
      },
      "execution_count": null,
      "outputs": [
        {
          "execution_count": 33,
          "output_type": "execute_result",
          "data": {
            "text/plain": "((12000, 2), (6000, 2), (6000, 2))"
          },
          "metadata": {}
        }
      ]
    },
    {
      "cell_type": "markdown",
      "source": [
        "### Custom Dataloader"
      ],
      "metadata": {
        "id": "iFw2z6ElMZMX"
      }
    },
    {
      "cell_type": "code",
      "source": [
        "def create_data_loader(df, tokenizer, max_len, batch_size):\n",
        "  ds = ImdbDataset(\n",
        "    reviews=df.Reviews.to_numpy(),\n",
        "    targets=df.Sentiment.to_numpy(),\n",
        "    tokenizer=tokenizer,\n",
        "    max_len=max_len\n",
        "  )\n",
        "\n",
        "  return DataLoader(\n",
        "    ds,\n",
        "    batch_size=batch_size,\n",
        "    num_workers=4\n",
        "  )"
      ],
      "metadata": {
        "id": "3rd7890Z6zLr",
        "execution": {
          "iopub.status.busy": "2023-04-26T06:14:56.746450Z",
          "iopub.execute_input": "2023-04-26T06:14:56.747468Z",
          "iopub.status.idle": "2023-04-26T06:14:56.753768Z",
          "shell.execute_reply.started": "2023-04-26T06:14:56.747420Z",
          "shell.execute_reply": "2023-04-26T06:14:56.752629Z"
        },
        "trusted": true
      },
      "execution_count": null,
      "outputs": []
    },
    {
      "cell_type": "code",
      "source": [
        "BATCH_SIZE = 4\n",
        "\n",
        "train_data_loader = create_data_loader(df_train, tokenizer, MAX_LEN, BATCH_SIZE)\n",
        "val_data_loader = create_data_loader(df_val, tokenizer, MAX_LEN, BATCH_SIZE)\n",
        "test_data_loader = create_data_loader(df_test, tokenizer, MAX_LEN, BATCH_SIZE)"
      ],
      "metadata": {
        "id": "tVU8o6i569ly",
        "execution": {
          "iopub.status.busy": "2023-04-26T06:14:57.297954Z",
          "iopub.execute_input": "2023-04-26T06:14:57.298501Z",
          "iopub.status.idle": "2023-04-26T06:14:57.310334Z",
          "shell.execute_reply.started": "2023-04-26T06:14:57.298466Z",
          "shell.execute_reply": "2023-04-26T06:14:57.309006Z"
        },
        "trusted": true,
        "outputId": "3ad1a5ce-a0a9-4f82-a5a3-557964c6d373"
      },
      "execution_count": null,
      "outputs": [
        {
          "name": "stderr",
          "text": "/opt/conda/lib/python3.7/site-packages/torch/utils/data/dataloader.py:557: UserWarning: This DataLoader will create 4 worker processes in total. Our suggested max number of worker in current system is 2, which is smaller than what this DataLoader is going to create. Please be aware that excessive worker creation might get DataLoader running slow or even freeze, lower the worker number to avoid potential slowness/freeze if necessary.\n  cpuset_checked))\n",
          "output_type": "stream"
        }
      ]
    },
    {
      "cell_type": "markdown",
      "source": [
        "### Loading the Pre-trained XLNet model for sequence classification from huggingface transformers"
      ],
      "metadata": {
        "id": "aC5D5Dh8J5w9"
      }
    },
    {
      "cell_type": "code",
      "source": [
        "from transformers import XLNetForSequenceClassification\n",
        "model = XLNetForSequenceClassification.from_pretrained('xlnet-base-cased', num_labels = 2)\n",
        "model = model.to(device)"
      ],
      "metadata": {
        "id": "H5mC8v6i7VH1",
        "outputId": "0bc5d6fe-d14b-455b-cba5-00ce32812140",
        "colab": {
          "base_uri": "https://localhost:8080/",
          "height": 114,
          "referenced_widgets": [
            "c2b26508fa464328b2b30c851a0366fe",
            "18e0ec87d07d4c0bb3930b5cef204963",
            "bac82e5dc1974ef4ac18f743ecfb72b5",
            "35d3d0c2b7004a6b87420e55a94ddcaf",
            "d8893bea6edb4154b051b344cae1636c",
            "d8c49d3421e843a6a2aadd20565ea5d2",
            "3524b098b1944e5ba752f1fbfcb50aef",
            "0cba445897514d4b98192e28890df304",
            "62d0e9673815468ba407019771a0b2ba",
            "6af011b92bd3462b937cea74a2094579",
            "47a41f0a294f42cbb2c9ec3916ca100e",
            "3d9a5c47f9fb44ffa41f91cc37b8ee6e",
            "767ef584a8ed49b4ae8ee7835208fb44",
            "769eba56a67d4d71b76f1240fd154a4e",
            "f6cc72303ee14b548a2c4c1282a1784b",
            "b9235fdb071742628781944bb3b6608d",
            "4eff8a57d1c84e2dadd7375d1086ced7"
          ]
        },
        "execution": {
          "iopub.status.busy": "2023-04-26T06:15:02.384516Z",
          "iopub.execute_input": "2023-04-26T06:15:02.385017Z",
          "iopub.status.idle": "2023-04-26T06:15:25.556775Z",
          "shell.execute_reply.started": "2023-04-26T06:15:02.384972Z",
          "shell.execute_reply": "2023-04-26T06:15:25.555714Z"
        },
        "trusted": true
      },
      "execution_count": null,
      "outputs": [
        {
          "output_type": "display_data",
          "data": {
            "text/plain": "Downloading pytorch_model.bin:   0%|          | 0.00/467M [00:00<?, ?B/s]",
            "application/vnd.jupyter.widget-view+json": {
              "version_major": 2,
              "version_minor": 0,
              "model_id": "4eff8a57d1c84e2dadd7375d1086ced7"
            }
          },
          "metadata": {}
        },
        {
          "name": "stderr",
          "text": "Some weights of the model checkpoint at xlnet-base-cased were not used when initializing XLNetForSequenceClassification: ['lm_loss.weight', 'lm_loss.bias']\n- This IS expected if you are initializing XLNetForSequenceClassification from the checkpoint of a model trained on another task or with another architecture (e.g. initializing a BertForSequenceClassification model from a BertForPreTraining model).\n- This IS NOT expected if you are initializing XLNetForSequenceClassification from the checkpoint of a model that you expect to be exactly identical (initializing a BertForSequenceClassification model from a BertForSequenceClassification model).\nSome weights of XLNetForSequenceClassification were not initialized from the model checkpoint at xlnet-base-cased and are newly initialized: ['sequence_summary.summary.weight', 'logits_proj.weight', 'sequence_summary.summary.bias', 'logits_proj.bias']\nYou should probably TRAIN this model on a down-stream task to be able to use it for predictions and inference.\n",
          "output_type": "stream"
        }
      ]
    },
    {
      "cell_type": "code",
      "source": [
        "model"
      ],
      "metadata": {
        "id": "KYsVoULvfmvD",
        "outputId": "f744743c-6554-4bc2-b3b0-1236164352fc",
        "colab": {
          "base_uri": "https://localhost:8080/",
          "height": 1000
        },
        "execution": {
          "iopub.status.busy": "2023-04-26T06:15:30.371154Z",
          "iopub.execute_input": "2023-04-26T06:15:30.371937Z",
          "iopub.status.idle": "2023-04-26T06:15:30.380631Z",
          "shell.execute_reply.started": "2023-04-26T06:15:30.371876Z",
          "shell.execute_reply": "2023-04-26T06:15:30.379033Z"
        },
        "trusted": true
      },
      "execution_count": null,
      "outputs": [
        {
          "execution_count": 39,
          "output_type": "execute_result",
          "data": {
            "text/plain": "XLNetForSequenceClassification(\n  (transformer): XLNetModel(\n    (word_embedding): Embedding(32000, 768)\n    (layer): ModuleList(\n      (0): XLNetLayer(\n        (rel_attn): XLNetRelativeAttention(\n          (layer_norm): LayerNorm((768,), eps=1e-12, elementwise_affine=True)\n          (dropout): Dropout(p=0.1, inplace=False)\n        )\n        (ff): XLNetFeedForward(\n          (layer_norm): LayerNorm((768,), eps=1e-12, elementwise_affine=True)\n          (layer_1): Linear(in_features=768, out_features=3072, bias=True)\n          (layer_2): Linear(in_features=3072, out_features=768, bias=True)\n          (dropout): Dropout(p=0.1, inplace=False)\n          (activation_function): GELUActivation()\n        )\n        (dropout): Dropout(p=0.1, inplace=False)\n      )\n      (1): XLNetLayer(\n        (rel_attn): XLNetRelativeAttention(\n          (layer_norm): LayerNorm((768,), eps=1e-12, elementwise_affine=True)\n          (dropout): Dropout(p=0.1, inplace=False)\n        )\n        (ff): XLNetFeedForward(\n          (layer_norm): LayerNorm((768,), eps=1e-12, elementwise_affine=True)\n          (layer_1): Linear(in_features=768, out_features=3072, bias=True)\n          (layer_2): Linear(in_features=3072, out_features=768, bias=True)\n          (dropout): Dropout(p=0.1, inplace=False)\n          (activation_function): GELUActivation()\n        )\n        (dropout): Dropout(p=0.1, inplace=False)\n      )\n      (2): XLNetLayer(\n        (rel_attn): XLNetRelativeAttention(\n          (layer_norm): LayerNorm((768,), eps=1e-12, elementwise_affine=True)\n          (dropout): Dropout(p=0.1, inplace=False)\n        )\n        (ff): XLNetFeedForward(\n          (layer_norm): LayerNorm((768,), eps=1e-12, elementwise_affine=True)\n          (layer_1): Linear(in_features=768, out_features=3072, bias=True)\n          (layer_2): Linear(in_features=3072, out_features=768, bias=True)\n          (dropout): Dropout(p=0.1, inplace=False)\n          (activation_function): GELUActivation()\n        )\n        (dropout): Dropout(p=0.1, inplace=False)\n      )\n      (3): XLNetLayer(\n        (rel_attn): XLNetRelativeAttention(\n          (layer_norm): LayerNorm((768,), eps=1e-12, elementwise_affine=True)\n          (dropout): Dropout(p=0.1, inplace=False)\n        )\n        (ff): XLNetFeedForward(\n          (layer_norm): LayerNorm((768,), eps=1e-12, elementwise_affine=True)\n          (layer_1): Linear(in_features=768, out_features=3072, bias=True)\n          (layer_2): Linear(in_features=3072, out_features=768, bias=True)\n          (dropout): Dropout(p=0.1, inplace=False)\n          (activation_function): GELUActivation()\n        )\n        (dropout): Dropout(p=0.1, inplace=False)\n      )\n      (4): XLNetLayer(\n        (rel_attn): XLNetRelativeAttention(\n          (layer_norm): LayerNorm((768,), eps=1e-12, elementwise_affine=True)\n          (dropout): Dropout(p=0.1, inplace=False)\n        )\n        (ff): XLNetFeedForward(\n          (layer_norm): LayerNorm((768,), eps=1e-12, elementwise_affine=True)\n          (layer_1): Linear(in_features=768, out_features=3072, bias=True)\n          (layer_2): Linear(in_features=3072, out_features=768, bias=True)\n          (dropout): Dropout(p=0.1, inplace=False)\n          (activation_function): GELUActivation()\n        )\n        (dropout): Dropout(p=0.1, inplace=False)\n      )\n      (5): XLNetLayer(\n        (rel_attn): XLNetRelativeAttention(\n          (layer_norm): LayerNorm((768,), eps=1e-12, elementwise_affine=True)\n          (dropout): Dropout(p=0.1, inplace=False)\n        )\n        (ff): XLNetFeedForward(\n          (layer_norm): LayerNorm((768,), eps=1e-12, elementwise_affine=True)\n          (layer_1): Linear(in_features=768, out_features=3072, bias=True)\n          (layer_2): Linear(in_features=3072, out_features=768, bias=True)\n          (dropout): Dropout(p=0.1, inplace=False)\n          (activation_function): GELUActivation()\n        )\n        (dropout): Dropout(p=0.1, inplace=False)\n      )\n      (6): XLNetLayer(\n        (rel_attn): XLNetRelativeAttention(\n          (layer_norm): LayerNorm((768,), eps=1e-12, elementwise_affine=True)\n          (dropout): Dropout(p=0.1, inplace=False)\n        )\n        (ff): XLNetFeedForward(\n          (layer_norm): LayerNorm((768,), eps=1e-12, elementwise_affine=True)\n          (layer_1): Linear(in_features=768, out_features=3072, bias=True)\n          (layer_2): Linear(in_features=3072, out_features=768, bias=True)\n          (dropout): Dropout(p=0.1, inplace=False)\n          (activation_function): GELUActivation()\n        )\n        (dropout): Dropout(p=0.1, inplace=False)\n      )\n      (7): XLNetLayer(\n        (rel_attn): XLNetRelativeAttention(\n          (layer_norm): LayerNorm((768,), eps=1e-12, elementwise_affine=True)\n          (dropout): Dropout(p=0.1, inplace=False)\n        )\n        (ff): XLNetFeedForward(\n          (layer_norm): LayerNorm((768,), eps=1e-12, elementwise_affine=True)\n          (layer_1): Linear(in_features=768, out_features=3072, bias=True)\n          (layer_2): Linear(in_features=3072, out_features=768, bias=True)\n          (dropout): Dropout(p=0.1, inplace=False)\n          (activation_function): GELUActivation()\n        )\n        (dropout): Dropout(p=0.1, inplace=False)\n      )\n      (8): XLNetLayer(\n        (rel_attn): XLNetRelativeAttention(\n          (layer_norm): LayerNorm((768,), eps=1e-12, elementwise_affine=True)\n          (dropout): Dropout(p=0.1, inplace=False)\n        )\n        (ff): XLNetFeedForward(\n          (layer_norm): LayerNorm((768,), eps=1e-12, elementwise_affine=True)\n          (layer_1): Linear(in_features=768, out_features=3072, bias=True)\n          (layer_2): Linear(in_features=3072, out_features=768, bias=True)\n          (dropout): Dropout(p=0.1, inplace=False)\n          (activation_function): GELUActivation()\n        )\n        (dropout): Dropout(p=0.1, inplace=False)\n      )\n      (9): XLNetLayer(\n        (rel_attn): XLNetRelativeAttention(\n          (layer_norm): LayerNorm((768,), eps=1e-12, elementwise_affine=True)\n          (dropout): Dropout(p=0.1, inplace=False)\n        )\n        (ff): XLNetFeedForward(\n          (layer_norm): LayerNorm((768,), eps=1e-12, elementwise_affine=True)\n          (layer_1): Linear(in_features=768, out_features=3072, bias=True)\n          (layer_2): Linear(in_features=3072, out_features=768, bias=True)\n          (dropout): Dropout(p=0.1, inplace=False)\n          (activation_function): GELUActivation()\n        )\n        (dropout): Dropout(p=0.1, inplace=False)\n      )\n      (10): XLNetLayer(\n        (rel_attn): XLNetRelativeAttention(\n          (layer_norm): LayerNorm((768,), eps=1e-12, elementwise_affine=True)\n          (dropout): Dropout(p=0.1, inplace=False)\n        )\n        (ff): XLNetFeedForward(\n          (layer_norm): LayerNorm((768,), eps=1e-12, elementwise_affine=True)\n          (layer_1): Linear(in_features=768, out_features=3072, bias=True)\n          (layer_2): Linear(in_features=3072, out_features=768, bias=True)\n          (dropout): Dropout(p=0.1, inplace=False)\n          (activation_function): GELUActivation()\n        )\n        (dropout): Dropout(p=0.1, inplace=False)\n      )\n      (11): XLNetLayer(\n        (rel_attn): XLNetRelativeAttention(\n          (layer_norm): LayerNorm((768,), eps=1e-12, elementwise_affine=True)\n          (dropout): Dropout(p=0.1, inplace=False)\n        )\n        (ff): XLNetFeedForward(\n          (layer_norm): LayerNorm((768,), eps=1e-12, elementwise_affine=True)\n          (layer_1): Linear(in_features=768, out_features=3072, bias=True)\n          (layer_2): Linear(in_features=3072, out_features=768, bias=True)\n          (dropout): Dropout(p=0.1, inplace=False)\n          (activation_function): GELUActivation()\n        )\n        (dropout): Dropout(p=0.1, inplace=False)\n      )\n    )\n    (dropout): Dropout(p=0.1, inplace=False)\n  )\n  (sequence_summary): SequenceSummary(\n    (summary): Linear(in_features=768, out_features=768, bias=True)\n    (activation): Tanh()\n    (first_dropout): Identity()\n    (last_dropout): Dropout(p=0.1, inplace=False)\n  )\n  (logits_proj): Linear(in_features=768, out_features=2, bias=True)\n)"
          },
          "metadata": {}
        }
      ]
    },
    {
      "cell_type": "markdown",
      "source": [
        "### Setting Hyperparameters"
      ],
      "metadata": {
        "id": "vpn2sTTMK_zL"
      }
    },
    {
      "cell_type": "code",
      "source": [
        "EPOCHS = 3\n",
        "\n",
        "param_optimizer = list(model.named_parameters())\n",
        "no_decay = ['bias', 'LayerNorm.bias', 'LayerNorm.weight']\n",
        "optimizer_grouped_parameters = [\n",
        "                                {'params': [p for n, p in param_optimizer if not any(nd in n for nd in no_decay)], 'weight_decay': 0.01},\n",
        "                                {'params': [p for n, p in param_optimizer if any(nd in n for nd in no_decay)], 'weight_decay':0.0}\n",
        "]\n",
        "optimizer = AdamW(optimizer_grouped_parameters, lr=3e-5)\n",
        "\n",
        "total_steps = len(train_data_loader) * EPOCHS\n",
        "\n",
        "scheduler = get_linear_schedule_with_warmup(\n",
        "  optimizer,\n",
        "  num_warmup_steps=0,\n",
        "  num_training_steps=total_steps\n",
        ")"
      ],
      "metadata": {
        "id": "aQ9Od31B9YJa",
        "execution": {
          "iopub.status.busy": "2023-04-26T06:15:40.775361Z",
          "iopub.execute_input": "2023-04-26T06:15:40.775729Z",
          "iopub.status.idle": "2023-04-26T06:15:40.789494Z",
          "shell.execute_reply.started": "2023-04-26T06:15:40.775695Z",
          "shell.execute_reply": "2023-04-26T06:15:40.788381Z"
        },
        "trusted": true,
        "outputId": "47a6f032-315e-4b93-ba39-37e55959c0dd"
      },
      "execution_count": null,
      "outputs": [
        {
          "name": "stderr",
          "text": "/opt/conda/lib/python3.7/site-packages/transformers/optimization.py:395: FutureWarning: This implementation of AdamW is deprecated and will be removed in a future version. Use the PyTorch implementation torch.optim.AdamW instead, or set `no_deprecation_warning=True` to disable this warning\n  FutureWarning,\n",
          "output_type": "stream"
        }
      ]
    },
    {
      "cell_type": "markdown",
      "source": [
        "### Sanity check with one batch"
      ],
      "metadata": {
        "id": "G2AtJcvwLV3x"
      }
    },
    {
      "cell_type": "code",
      "source": [
        "data = next(iter(val_data_loader))\n",
        "data.keys()"
      ],
      "metadata": {
        "id": "rUoaMqjvKdym",
        "outputId": "e9f8a354-bfd6-4ad9-f139-119e937d1a05",
        "colab": {
          "base_uri": "https://localhost:8080/",
          "height": 33
        },
        "execution": {
          "iopub.status.busy": "2023-04-26T06:15:44.731106Z",
          "iopub.execute_input": "2023-04-26T06:15:44.731934Z",
          "iopub.status.idle": "2023-04-26T06:15:45.095244Z",
          "shell.execute_reply.started": "2023-04-26T06:15:44.731879Z",
          "shell.execute_reply": "2023-04-26T06:15:45.093789Z"
        },
        "trusted": true
      },
      "execution_count": null,
      "outputs": [
        {
          "execution_count": 41,
          "output_type": "execute_result",
          "data": {
            "text/plain": "dict_keys(['review_text', 'input_ids', 'attention_mask', 'targets'])"
          },
          "metadata": {}
        }
      ]
    },
    {
      "cell_type": "code",
      "source": [
        "input_ids = data['input_ids'].to(device)\n",
        "attention_mask = data['attention_mask'].to(device)\n",
        "targets = data['targets'].to(device)\n",
        "print(input_ids.reshape(4,512).shape) # batch size x seq length\n",
        "print(attention_mask.shape) # batch size x seq length"
      ],
      "metadata": {
        "id": "RIUB5WJNKhBs",
        "outputId": "84dbb5d9-adb4-44a6-b8bb-1627fbf87592",
        "colab": {
          "base_uri": "https://localhost:8080/",
          "height": 50
        },
        "execution": {
          "iopub.status.busy": "2023-04-26T06:15:48.547726Z",
          "iopub.execute_input": "2023-04-26T06:15:48.548226Z",
          "iopub.status.idle": "2023-04-26T06:15:48.559425Z",
          "shell.execute_reply.started": "2023-04-26T06:15:48.548178Z",
          "shell.execute_reply": "2023-04-26T06:15:48.558341Z"
        },
        "trusted": true
      },
      "execution_count": null,
      "outputs": [
        {
          "name": "stdout",
          "text": "torch.Size([4, 512])\ntorch.Size([4, 512])\n",
          "output_type": "stream"
        }
      ]
    },
    {
      "cell_type": "code",
      "source": [
        "input_ids[0]"
      ],
      "metadata": {
        "id": "EYsDR9leYb4Z",
        "outputId": "af950d9a-fad4-48a6-a49a-7b310f657794",
        "colab": {
          "base_uri": "https://localhost:8080/",
          "height": 886
        },
        "execution": {
          "iopub.status.busy": "2023-04-26T06:15:49.638030Z",
          "iopub.execute_input": "2023-04-26T06:15:49.638610Z",
          "iopub.status.idle": "2023-04-26T06:15:49.657671Z",
          "shell.execute_reply.started": "2023-04-26T06:15:49.638574Z",
          "shell.execute_reply": "2023-04-26T06:15:49.656557Z"
        },
        "trusted": true
      },
      "execution_count": null,
      "outputs": [
        {
          "execution_count": 43,
          "output_type": "execute_result",
          "data": {
            "text/plain": "tensor([[31580,  1220, 15070,   270,    17,  2369,    17,  2369,   326,    52,\n          1432,    30, 10398,    24,  4777,  7439,   556,  1468,   536, 27173,\n         16089,    36,  1565,    95,   427,   143,  1468,   536,   881,    40,\n          1085,  3547,    17,  2369,    17,  2369,    18,  1468,   536,  6348,\n          2216,    21,    18,  1468,   536,  2523,    21,  3682,  1151,  1468,\n           536,  9147,  3458,    18,  1151,    18,  8774,    20,    24,   109,\n          4401,   679,    71,  4584,    20,  1579,  4901,    17,  2686, 12200,\n           155,  9365,   161,   195,    21,  4401,    17,  2369,    17,  2369,\n          1508,  6179,    21, 21128,    33,    24,  3570, 17411,    22, 28636,\n            18,   777, 18850,    23,   199,    87,  7817,  1468,   536,   352,\n           318,    34,    18,  1468,   536,    20,  1468,   536,    18,  3837,\n            18,   129,   776,    24,   601,    64,  1191,    28,    22,  1468,\n           536,    65,    26,    23, 16705,   171,    31,    18, 18417,    20,\n           513,    21,  1468,   536,    18,  1562,    20,  3821,    24,   601,\n           177,    40,    18,  1151,  6719,    48,  1468,   536,   601,    64,\n            26,    46,  1217,  1468,   536,  2189,   909,    25,    18,  7565,\n            17, 16901,    21,    17,   150,    26,   215,   755,    36,    38,\n            29,  3677,    25,    71,    18,  1468,   536,   406,    17,   150,\n           427,  1738,    21,    44,    47,    18,   374,    17,  2369,    17,\n          2369,    17,   150,   255,    18,  2216,  2033,    33,    18,  6348,\n          1468,   536,    33,  3920,    20,    24,  1986,    20,    18, 16165,\n            17,    98,  1449,   870, 25971,    22,  1468,   536,    36,    77,\n          4150,    33,    17, 29531,   687,  2371,   591,    17,   150,  1468,\n           536,    17,   150,   569,    18,  1468,   536,    21,  1468,   536,\n            20, 16705,    17,   150,   633,    31,   286,   564,    17,  7140,\n           409,    17,  7140,   409,    17,  7140,   409, 15593,   103,  2999,\n            25,  1579, 14277,    33,   206,  1468,   536,  5013,  1468,   536,\n            18, 14768,    17,  2369,    17,  2369,    17,   150,   675,    52,\n          1432,    24,   156,    28,    50,   114,   163, 11501,  4546,    21,\n           422, 22471,    57,    77,   149,    36,  2007,    22, 12035,    48,\n          1253,  2856,    25,    18,   465,   108,    44,   210,    22,   197,\n           359,   352,    17,   150,  3179,    18, 25500,    33,    17, 20977,\n          9775,   118,  1772,   254,     4,     3,     0,     0,     0,     0,\n             0,     0,     0,     0,     0,     0,     0,     0,     0,     0,\n             0,     0,     0,     0,     0,     0,     0,     0,     0,     0,\n             0,     0,     0,     0,     0,     0,     0,     0,     0,     0,\n             0,     0,     0,     0,     0,     0,     0,     0,     0,     0,\n             0,     0,     0,     0,     0,     0,     0,     0,     0,     0,\n             0,     0,     0,     0,     0,     0,     0,     0,     0,     0,\n             0,     0,     0,     0,     0,     0,     0,     0,     0,     0,\n             0,     0,     0,     0,     0,     0,     0,     0,     0,     0,\n             0,     0,     0,     0,     0,     0,     0,     0,     0,     0,\n             0,     0,     0,     0,     0,     0,     0,     0,     0,     0,\n             0,     0,     0,     0,     0,     0,     0,     0,     0,     0,\n             0,     0,     0,     0,     0,     0,     0,     0,     0,     0,\n             0,     0,     0,     0,     0,     0,     0,     0,     0,     0,\n             0,     0,     0,     0,     0,     0,     0,     0,     0,     0,\n             0,     0,     0,     0,     0,     0,     0,     0,     0,     0,\n             0,     0,     0,     0,     0,     0,     0,     0,     0,     0,\n             0,     0,     0,     0,     0,     0,     0,     0,     0,     0,\n             0,     0,     0,     0,     0,     0,     0,     0,     0,     0,\n             0,     0]], device='cuda:0')"
          },
          "metadata": {}
        }
      ]
    },
    {
      "cell_type": "code",
      "source": [
        "outputs = model(input_ids.reshape(4,512), token_type_ids=None, attention_mask=attention_mask, labels=targets)\n",
        "outputs"
      ],
      "metadata": {
        "id": "KCFLKXL0KmaA",
        "outputId": "7e543f7e-a43d-4c30-91bf-0efe1d2d476c",
        "colab": {
          "base_uri": "https://localhost:8080/",
          "height": 100
        },
        "execution": {
          "iopub.status.busy": "2023-04-26T06:15:52.011984Z",
          "iopub.execute_input": "2023-04-26T06:15:52.012693Z",
          "iopub.status.idle": "2023-04-26T06:15:53.521810Z",
          "shell.execute_reply.started": "2023-04-26T06:15:52.012649Z",
          "shell.execute_reply": "2023-04-26T06:15:53.520867Z"
        },
        "trusted": true
      },
      "execution_count": null,
      "outputs": [
        {
          "execution_count": 44,
          "output_type": "execute_result",
          "data": {
            "text/plain": "XLNetForSequenceClassificationOutput(loss=tensor(0.6730, device='cuda:0', grad_fn=<NllLossBackward0>), logits=tensor([[ 0.2413, -0.0079],\n        [ 0.0867,  0.0092],\n        [ 0.2479, -0.1568],\n        [ 0.3380, -0.1223]], device='cuda:0', grad_fn=<AddmmBackward0>), mems=(tensor([[[-0.0738, -0.0022, -0.0323,  ..., -0.0292,  0.0205,  0.1022],\n         [-0.0738, -0.0022, -0.0323,  ..., -0.0292,  0.0205,  0.1022],\n         [-0.0738, -0.0022, -0.0323,  ..., -0.0292,  0.0205,  0.1022],\n         [-0.0738, -0.0022, -0.0323,  ..., -0.0292,  0.0205,  0.1022]],\n\n        [[ 0.0174,  0.0299,  0.0014,  ..., -0.0177, -0.0770, -0.0350],\n         [ 0.0157,  0.1226, -0.0532,  ...,  0.0338,  0.0049,  0.0026],\n         [-0.0131,  0.0199,  0.0297,  ..., -0.0384, -0.0460, -0.0460],\n         [-0.0387, -0.0099, -0.0053,  ...,  0.0643,  0.0192, -0.0144]],\n\n        [[ 0.0384,  0.0686, -0.0555,  ...,  0.0629,  0.0898,  0.0073],\n         [ 0.0118, -0.0813,  0.0548,  ...,  0.0196,  0.0901,  0.0503],\n         [-0.0783,  0.1199,  0.0753,  ...,  0.0234, -0.0399, -0.0231],\n         [ 0.0250,  0.0470, -0.0170,  ...,  0.0033,  0.0053, -0.0005]],\n\n        ...,\n\n        [[-0.0049,  0.0655, -0.0151,  ..., -0.0458, -0.0061,  0.0346],\n         [-0.0049,  0.0655, -0.0151,  ..., -0.0458, -0.0061,  0.0346],\n         [-0.0049,  0.0655, -0.0151,  ..., -0.0458, -0.0061,  0.0346],\n         [-0.0049,  0.0655, -0.0151,  ..., -0.0458, -0.0061,  0.0346]],\n\n        [[-0.0049,  0.0655, -0.0151,  ..., -0.0458, -0.0061,  0.0346],\n         [-0.0049,  0.0655, -0.0151,  ..., -0.0458, -0.0061,  0.0346],\n         [-0.0049,  0.0655, -0.0151,  ..., -0.0458, -0.0061,  0.0346],\n         [-0.0049,  0.0655, -0.0151,  ..., -0.0458, -0.0061,  0.0346]],\n\n        [[-0.0049,  0.0655, -0.0151,  ..., -0.0458, -0.0061,  0.0346],\n         [-0.0049,  0.0655, -0.0151,  ..., -0.0458, -0.0061,  0.0346],\n         [-0.0049,  0.0655, -0.0151,  ..., -0.0458, -0.0061,  0.0346],\n         [-0.0049,  0.0655, -0.0151,  ..., -0.0458, -0.0061,  0.0346]]],\n       device='cuda:0'), tensor([[[-1.4875, -0.1230, -0.6258,  ..., -0.3269,  0.7576,  1.2533],\n         [-1.6996, -0.2498, -0.7334,  ..., -0.1301,  0.4651,  1.3452],\n         [-0.9689,  0.1191, -0.7998,  ..., -0.2763,  0.4857,  1.2457],\n         [-1.3014,  0.1443, -1.1311,  ..., -0.5032,  0.2959,  1.3492]],\n\n        [[-0.1651,  0.7791, -0.2789,  ..., -0.5889, -1.0255, -0.7994],\n         [ 0.0126,  2.7367, -1.2671,  ...,  0.2661,  0.0059, -0.2459],\n         [-0.3694, -0.0844,  0.1523,  ..., -1.0141, -1.5988,  0.0319],\n         [-0.4340,  0.0689,  0.1094,  ..., -0.2345,  0.3281,  0.5981]],\n\n        [[-0.1129,  1.3286, -1.4981,  ..., -0.0689,  2.0003, -0.1298],\n         [ 0.4574, -1.5626,  1.0760,  ..., -0.8948,  2.2524,  0.6895],\n         [-1.2284,  2.7598,  1.8091,  ...,  0.3208, -1.6103, -0.0356],\n         [ 0.7363,  1.4951,  0.0177,  ..., -0.3243, -0.3320,  0.4479]],\n\n        ...,\n\n        [[ 0.2429,  2.0272,  0.1070,  ..., -0.5051, -0.6249,  0.9880],\n         [ 0.3239,  2.0158,  0.0449,  ..., -0.5620, -0.3465,  1.0602],\n         [ 0.1203,  2.0929,  0.0123,  ..., -0.7595, -0.7124,  0.9315],\n         [ 0.1042,  2.1603,  0.0269,  ..., -0.8587, -0.9427,  0.7476]],\n\n        [[ 0.2482,  2.0372,  0.0916,  ..., -0.4941, -0.6086,  0.9845],\n         [ 0.3285,  2.0258,  0.0282,  ..., -0.5712, -0.3298,  1.0464],\n         [ 0.1638,  2.0787,  0.0253,  ..., -0.7640, -0.7448,  0.9230],\n         [ 0.1170,  2.1605,  0.0192,  ..., -0.8524, -0.9643,  0.7683]],\n\n        [[ 0.2799,  2.0005,  0.0948,  ..., -0.4787, -0.6347,  0.9937],\n         [ 0.3471,  2.0001,  0.0436,  ..., -0.5693, -0.3501,  1.0484],\n         [ 0.1779,  2.1174,  0.0426,  ..., -0.7636, -0.7204,  0.9093],\n         [ 0.1193,  2.1706,  0.0295,  ..., -0.8559, -0.9573,  0.7731]]],\n       device='cuda:0'), tensor([[[-1.6771, -0.8123, -0.6035,  ...,  0.0505,  0.5903,  0.8416],\n         [-1.5875, -0.9468, -1.0434,  ...,  0.2413,  0.1728,  0.6892],\n         [-0.9589, -0.2669, -1.1848,  ...,  0.4308,  0.7492,  1.0028],\n         [-1.4876, -0.4480, -1.3536,  ...,  0.3580,  0.5203,  0.9916]],\n\n        [[-0.0964, -0.1863, -0.1003,  ..., -0.9450, -0.4382, -0.7921],\n         [-0.1852,  1.8588, -0.9668,  ...,  0.0850, -0.1646, -0.3485],\n         [-0.5420, -0.5690, -0.2734,  ..., -1.1050, -1.4032,  0.2429],\n         [-0.7832,  0.2361, -0.3699,  ..., -0.9072,  1.1518,  0.7833]],\n\n        [[ 0.4892,  0.8373, -1.8916,  ..., -0.5006,  1.0525, -0.5182],\n         [ 0.5613, -1.2572,  1.1158,  ..., -0.3486,  1.6322,  0.9125],\n         [-0.5917,  1.8828,  1.2206,  ..., -0.0036, -1.6616,  0.0459],\n         [ 0.6405,  0.1982, -0.4316,  ..., -0.6185, -0.1009,  0.0951]],\n\n        ...,\n\n        [[-0.2955,  1.7906,  0.2627,  ..., -0.1531, -0.6756,  1.2143],\n         [-0.0554,  1.7261,  0.0488,  ..., -0.2802, -0.4652,  1.0073],\n         [-0.2423,  1.6965,  0.3701,  ..., -0.3048, -0.8958,  1.0731],\n         [-0.3977,  1.8253,  0.4476,  ..., -0.2289, -0.9363,  0.6548]],\n\n        [[-0.2995,  1.7855,  0.2447,  ..., -0.1649, -0.6662,  1.2020],\n         [-0.0203,  1.7175,  0.0225,  ..., -0.2871, -0.4630,  0.9748],\n         [-0.2740,  1.7409,  0.4852,  ..., -0.2834, -0.8393,  1.0595],\n         [-0.4151,  1.8508,  0.4684,  ..., -0.2433, -0.9489,  0.7111]],\n\n        [[-0.2822,  1.7633,  0.2609,  ..., -0.1630, -0.6538,  1.2217],\n         [ 0.0056,  1.6899,  0.0206,  ..., -0.2765, -0.4972,  0.9635],\n         [-0.3104,  1.7992,  0.5342,  ..., -0.3060, -0.7942,  1.0223],\n         [-0.4536,  1.8944,  0.5014,  ..., -0.2561, -0.9438,  0.7251]]],\n       device='cuda:0'), tensor([[[-1.8829, -0.2298, -0.7311,  ...,  0.1711,  0.1040,  1.0672],\n         [-2.0968, -0.2585, -1.1369,  ...,  0.3523,  0.0565,  0.8114],\n         [-1.3217,  0.5064, -1.3761,  ...,  0.3596,  0.4059,  1.6233],\n         [-1.7454,  0.3975, -1.8214,  ...,  0.3786,  0.0879,  1.3162]],\n\n        [[-0.0768, -0.1266,  0.2875,  ..., -1.2842, -0.3078,  0.2210],\n         [-0.3768,  2.5065, -1.4673,  ..., -0.1348, -0.3815, -1.0336],\n         [-0.7972, -0.0588, -0.4853,  ..., -0.9103, -2.2550,  0.8716],\n         [-0.5402,  0.3079, -0.8774,  ...,  0.0711,  0.0408,  1.2213]],\n\n        [[-0.4653,  1.8795, -1.9288,  ..., -1.3285,  0.9166, -0.2014],\n         [ 0.3037, -1.0939,  0.4249,  ..., -1.0012,  0.8866,  0.1330],\n         [-0.3458,  2.4273,  0.0468,  ...,  0.0972, -2.6966,  0.1915],\n         [ 0.0054,  1.0028, -0.9684,  ...,  0.0657, -0.9134,  0.5749]],\n\n        ...,\n\n        [[-0.2307,  2.8392,  0.3178,  ...,  0.4237, -1.3166,  1.8101],\n         [-0.1506,  2.7791, -0.0724,  ...,  0.2375, -0.9708,  1.6792],\n         [-0.3557,  2.6379,  0.5724,  ...,  0.2416, -1.5759,  1.2952],\n         [-0.4292,  3.1474,  0.4607,  ...,  0.5022, -1.8026,  0.4426]],\n\n        [[-0.2460,  2.8415,  0.3381,  ...,  0.3676, -1.2953,  1.8341],\n         [-0.1170,  2.7496, -0.0782,  ...,  0.1897, -0.9596,  1.6733],\n         [-0.4288,  2.7955,  0.7505,  ...,  0.4021, -1.3784,  1.2237],\n         [-0.4732,  3.1920,  0.5556,  ...,  0.5138, -1.7488,  0.4840]],\n\n        [[-0.2288,  2.7900,  0.3827,  ...,  0.3534, -1.2583,  1.9401],\n         [-0.0911,  2.7291, -0.0679,  ...,  0.1867, -1.0148,  1.6815],\n         [-0.4774,  2.8588,  0.8239,  ...,  0.3902, -1.2790,  1.2324],\n         [-0.5272,  3.2364,  0.6508,  ...,  0.4786, -1.6560,  0.5219]]],\n       device='cuda:0'), tensor([[[-2.0719e+00, -1.8088e-02, -6.2520e-01,  ...,  5.6046e-01,\n          -1.2574e-01,  1.2305e+00],\n         [-2.2754e+00, -1.9335e-03, -1.1194e+00,  ...,  5.8310e-01,\n           5.0975e-02,  1.1395e+00],\n         [-1.2884e+00,  9.8755e-03, -1.0024e+00,  ...,  7.2502e-01,\n           3.1490e-01,  2.0344e+00],\n         [-2.0636e+00,  1.0470e-01, -1.6208e+00,  ...,  1.0760e+00,\n           5.9794e-01,  1.3316e+00]],\n\n        [[-6.6103e-01,  3.5288e-01,  2.8543e-01,  ..., -9.9970e-01,\n          -5.0345e-01,  7.0851e-01],\n         [-3.3833e-01,  1.9889e+00, -1.4362e+00,  ..., -1.7454e-01,\n          -1.2818e+00, -6.3907e-01],\n         [-7.6309e-01, -9.4222e-01, -2.2733e-01,  ..., -3.0124e-01,\n          -2.4446e+00,  1.1015e+00],\n         [-6.9826e-01, -7.3749e-01, -1.2458e+00,  ...,  4.1326e-01,\n           6.4096e-01,  8.0434e-01]],\n\n        [[-6.9980e-01,  1.8727e+00, -2.0591e+00,  ..., -1.1064e+00,\n           3.6942e-01,  5.1429e-01],\n         [ 3.9178e-01, -3.6989e-01,  3.2351e-01,  ..., -3.7402e-01,\n           1.0765e-01, -3.8226e-01],\n         [ 2.5354e-01,  1.2935e+00,  5.8082e-01,  ...,  4.9658e-01,\n          -2.3992e+00,  1.3093e+00],\n         [-2.0894e-01,  1.0596e-01, -4.3789e-01,  ...,  1.0911e+00,\n          -1.4558e+00,  1.1246e+00]],\n\n        ...,\n\n        [[ 3.9200e-02,  2.5516e+00, -1.6059e-01,  ...,  9.4527e-01,\n          -8.6239e-01,  1.4666e+00],\n         [ 3.9171e-01,  2.2991e+00, -1.7675e-01,  ...,  1.1559e+00,\n          -2.3474e-01,  1.5391e+00],\n         [-4.2242e-02,  2.5302e+00,  1.6142e-01,  ...,  1.3822e+00,\n          -1.0691e+00,  1.3168e+00],\n         [-1.3093e-01,  2.7406e+00,  3.1899e-01,  ...,  1.8006e+00,\n          -1.3747e+00,  5.3898e-01]],\n\n        [[ 1.2959e-02,  2.5665e+00, -1.2822e-01,  ...,  9.1162e-01,\n          -8.5911e-01,  1.4923e+00],\n         [ 4.0988e-01,  2.2676e+00, -2.0619e-01,  ...,  1.1356e+00,\n          -1.9820e-01,  1.5281e+00],\n         [-7.4984e-02,  2.6124e+00,  2.2842e-01,  ...,  1.3360e+00,\n          -7.1644e-01,  1.3502e+00],\n         [-1.4444e-01,  2.7798e+00,  4.2581e-01,  ...,  1.7409e+00,\n          -1.2507e+00,  6.4532e-01]],\n\n        [[ 6.2399e-02,  2.5156e+00, -4.4665e-02,  ...,  9.1064e-01,\n          -8.6750e-01,  1.5850e+00],\n         [ 4.3274e-01,  2.2676e+00, -2.1361e-01,  ...,  1.1468e+00,\n          -2.6891e-01,  1.5338e+00],\n         [-1.4312e-01,  2.6589e+00,  3.2038e-01,  ...,  1.3041e+00,\n          -6.0693e-01,  1.3804e+00],\n         [-1.8995e-01,  2.8508e+00,  5.1575e-01,  ...,  1.6564e+00,\n          -1.1085e+00,  7.3547e-01]]], device='cuda:0'), tensor([[[-1.1376, -0.0706, -0.7107,  ...,  0.1873, -0.4025,  1.1555],\n         [-1.2712,  0.0400, -1.0931,  ...,  0.3771, -0.2335,  1.4595],\n         [-0.7936,  0.1526, -0.9985,  ...,  0.4741, -0.2184,  1.7045],\n         [-1.5417,  0.1529, -1.3115,  ...,  0.7787,  0.0429,  0.8370]],\n\n        [[-0.2307,  0.4091,  0.1038,  ..., -1.2583, -0.6989,  0.5161],\n         [ 0.5031,  1.2316, -1.3737,  ..., -0.1333, -2.2775, -0.4948],\n         [ 0.4244, -0.2145, -0.0856,  ..., -0.9690, -2.0416,  0.6354],\n         [-0.2904,  0.2037, -1.0558,  ...,  0.0204, -0.8263,  0.0062]],\n\n        [[-0.2968,  1.1529, -1.3149,  ..., -1.4542,  0.0969,  0.2103],\n         [ 0.3714,  0.0551, -0.2500,  ...,  0.1731, -1.3652, -0.3752],\n         [ 0.1464,  1.0430,  0.3345,  ..., -0.2147, -1.6510,  0.4197],\n         [-0.0800,  0.3444, -0.3440,  ...,  0.6976, -1.4950,  0.4104]],\n\n        ...,\n\n        [[ 0.2004,  1.8799, -0.0819,  ...,  0.2748, -0.3738,  1.0404],\n         [ 0.1571,  1.8744,  0.0281,  ...,  0.6993, -0.1140,  1.3695],\n         [ 0.4118,  2.0643,  0.0882,  ...,  0.5912, -0.8571,  0.8556],\n         [ 0.1837,  2.2895,  0.2403,  ...,  0.6621, -1.2483,  0.3777]],\n\n        [[ 0.1774,  1.8729, -0.0604,  ...,  0.2343, -0.3814,  1.0338],\n         [ 0.1500,  1.8480,  0.0213,  ...,  0.6926, -0.1018,  1.3769],\n         [ 0.2503,  2.1581,  0.0675,  ...,  0.5571, -0.6663,  0.8334],\n         [ 0.1381,  2.3763,  0.2112,  ...,  0.5664, -1.1717,  0.4751]],\n\n        [[ 0.1769,  1.8172, -0.0085,  ...,  0.2034, -0.4047,  1.0494],\n         [ 0.1770,  1.8419,  0.0188,  ...,  0.6856, -0.1664,  1.3847],\n         [ 0.1596,  2.2253,  0.0919,  ...,  0.5868, -0.6204,  0.8656],\n         [ 0.0758,  2.4567,  0.1436,  ...,  0.4449, -1.1016,  0.5211]]],\n       device='cuda:0'), tensor([[[-1.3985,  0.0241, -0.9104,  ...,  0.2750,  0.1575,  1.3331],\n         [-1.6745,  0.1230, -1.6411,  ...,  0.1708,  0.0274,  2.0967],\n         [-1.0998,  0.1432, -1.7204,  ...,  0.5010, -0.2862,  1.3646],\n         [-1.9006,  0.1314, -2.2025,  ...,  0.7020, -0.4352,  0.4980]],\n\n        [[-0.5448,  0.5889, -0.2511,  ..., -0.7626, -0.6355,  0.5682],\n         [ 0.7721,  1.7873, -2.2175,  ..., -0.2187, -2.5905,  0.0549],\n         [ 0.3997, -0.4600, -0.9764,  ..., -0.9472, -2.5610,  1.1646],\n         [-0.0639, -0.2966, -0.7135,  ...,  0.0384, -1.1043,  0.3171]],\n\n        [[-0.5669,  1.6343, -1.3225,  ..., -0.9953, -0.1676,  0.6087],\n         [ 0.3611,  0.6581, -1.0932,  ..., -0.2592, -1.9695,  0.5027],\n         [ 0.1774,  1.4217, -0.1407,  ..., -0.0035, -1.9018,  0.3014],\n         [-0.0877, -0.3462, -0.1257,  ...,  0.8907, -1.6674,  0.4325]],\n\n        ...,\n\n        [[ 0.1449,  2.4015,  0.2119,  ...,  1.0500, -0.1139,  0.8886],\n         [ 0.1774,  2.3312, -0.0773,  ...,  1.4030,  0.0910,  0.8184],\n         [ 0.7828,  2.4047,  0.1078,  ...,  0.9519, -0.5447,  0.3245],\n         [ 0.5972,  2.1493,  0.7889,  ...,  1.4540, -1.4435, -0.0411]],\n\n        [[ 0.1104,  2.3993,  0.2311,  ...,  0.9501, -0.1234,  0.8851],\n         [ 0.1532,  2.2856, -0.0611,  ...,  1.3976,  0.1071,  0.8306],\n         [ 0.6425,  2.6225,  0.0127,  ...,  0.9712, -0.3867,  0.2666],\n         [ 0.5992,  2.2847,  0.7381,  ...,  1.3880, -1.4938, -0.0208]],\n\n        [[ 0.1018,  2.3102,  0.2418,  ...,  0.8323, -0.1746,  0.9372],\n         [ 0.1789,  2.2828, -0.0288,  ...,  1.3883,  0.0562,  0.8115],\n         [ 0.5945,  2.7363, -0.0054,  ...,  1.0040, -0.3993,  0.3068],\n         [ 0.5793,  2.4014,  0.6309,  ...,  1.3029, -1.5294,  0.0084]]],\n       device='cuda:0'), tensor([[[-1.4227e+00,  5.0560e-02, -6.5096e-01,  ...,  1.8890e-01,\n           3.9140e-01,  1.5962e+00],\n         [-1.8953e+00, -2.1387e-01, -1.1292e+00,  ...,  1.8565e-01,\n           4.1740e-01,  1.8280e+00],\n         [-1.3382e+00,  4.0221e-02, -1.1023e+00,  ...,  8.3976e-01,\n           3.5778e-01,  1.2692e+00],\n         [-1.2538e+00,  7.4668e-02, -1.4983e+00,  ...,  8.1749e-01,\n           1.7917e-01,  6.7863e-01]],\n\n        [[-3.5695e-01,  3.9937e-01, -3.9425e-01,  ..., -8.3984e-01,\n          -3.6785e-01, -2.0776e-01],\n         [ 5.5670e-01,  1.0006e+00, -2.7271e+00,  ..., -3.3361e-01,\n          -2.2108e+00,  2.5413e-01],\n         [ 2.9552e-01, -8.9627e-01, -1.2668e+00,  ..., -8.8788e-01,\n          -2.0193e+00,  1.3393e+00],\n         [ 4.8700e-01,  8.8187e-02, -9.7964e-01,  ..., -1.2308e-01,\n          -8.6107e-01,  3.7982e-01]],\n\n        [[-2.8290e-01,  1.6984e+00, -1.0786e+00,  ..., -1.2879e+00,\n           2.4687e-01,  4.1194e-01],\n         [-1.1079e-01,  5.5300e-01, -1.1561e+00,  ...,  8.8706e-02,\n          -1.5965e+00,  3.3215e-01],\n         [ 5.1935e-01,  1.1549e+00,  1.5172e-01,  ..., -4.0540e-02,\n          -8.6142e-01,  2.2805e-01],\n         [ 4.9271e-01,  2.2088e-04, -5.1242e-01,  ...,  1.8538e-01,\n          -1.3966e+00,  3.9429e-01]],\n\n        ...,\n\n        [[-1.0556e-01,  2.3250e+00,  6.1357e-01,  ...,  1.1877e+00,\n           3.3256e-01,  8.4649e-01],\n         [ 1.1909e-01,  1.9739e+00,  2.6141e-01,  ...,  1.2236e+00,\n           3.7658e-01,  6.3994e-01],\n         [ 6.8442e-01,  1.9613e+00,  2.8996e-01,  ...,  9.7636e-01,\n          -7.5854e-02,  1.7387e-02],\n         [ 3.0134e-01,  2.0067e+00,  5.9636e-01,  ...,  1.1329e+00,\n          -4.3160e-01, -5.7714e-01]],\n\n        [[-1.2206e-01,  2.3005e+00,  6.0266e-01,  ...,  1.0958e+00,\n           3.7592e-01,  8.5730e-01],\n         [ 9.3516e-02,  1.9230e+00,  2.5522e-01,  ...,  1.2338e+00,\n           3.7018e-01,  6.6652e-01],\n         [ 5.5101e-01,  2.1270e+00,  1.7447e-01,  ...,  9.9566e-01,\n           1.1891e-01,  1.4159e-02],\n         [ 3.9245e-01,  2.1811e+00,  5.5019e-01,  ...,  1.0880e+00,\n          -4.0583e-01, -6.4831e-01]],\n\n        [[-1.2873e-01,  2.2270e+00,  5.8971e-01,  ...,  9.8305e-01,\n           3.8343e-01,  8.8481e-01],\n         [ 1.1198e-01,  1.9005e+00,  2.7702e-01,  ...,  1.2308e+00,\n           3.2640e-01,  6.4911e-01],\n         [ 5.1576e-01,  2.2445e+00,  1.0038e-01,  ...,  1.0556e+00,\n           9.9509e-02,  1.0229e-01],\n         [ 4.5062e-01,  2.3195e+00,  4.3872e-01,  ...,  1.0476e+00,\n          -3.9392e-01, -6.8916e-01]]], device='cuda:0'), tensor([[[-0.6915,  0.3631, -0.2388,  ..., -0.1139, -0.2247,  1.3026],\n         [-1.5106,  0.0576, -0.9592,  ...,  0.1114,  0.1693,  1.5204],\n         [-0.8714,  0.1967, -0.7755,  ...,  0.4682, -0.2662,  0.9422],\n         [-1.2795,  0.1940, -1.3882,  ...,  0.9311, -0.1438,  0.5994]],\n\n        [[ 0.5723,  0.6503,  0.0194,  ..., -0.4726, -0.4687, -0.2397],\n         [ 0.6751,  0.9630, -2.6086,  ...,  0.1292, -2.1753,  0.5812],\n         [ 0.8030, -0.4765, -1.3437,  ..., -0.5471, -2.2736,  0.9237],\n         [ 0.2818,  0.3473, -1.5441,  ...,  0.3121, -0.8839,  0.2783]],\n\n        [[ 0.8484,  1.8395, -0.7632,  ..., -1.1250, -0.3987,  0.1072],\n         [-0.2576,  0.6347, -1.1209,  ...,  0.1605, -1.5594, -0.0571],\n         [ 0.6489,  1.0665,  0.0419,  ...,  0.0817, -1.4589,  0.5810],\n         [ 0.5360,  0.0668, -0.8790,  ...,  0.7398, -0.9391,  0.2169]],\n\n        ...,\n\n        [[ 0.1923,  2.3691,  1.2144,  ...,  0.3610, -0.3646,  0.6596],\n         [ 0.2547,  1.8966,  0.7813,  ...,  0.8304, -0.3005,  0.5774],\n         [ 0.9900,  1.7247,  0.6028,  ...,  0.4652, -0.5258, -0.1516],\n         [ 0.5145,  1.7209,  0.8437,  ...,  0.4689, -0.2315, -0.1275]],\n\n        [[ 0.2213,  2.3600,  1.2121,  ...,  0.2914, -0.3522,  0.6653],\n         [ 0.2356,  1.8518,  0.7548,  ...,  0.8190, -0.2991,  0.6043],\n         [ 0.7630,  1.7904,  0.4816,  ...,  0.6117, -0.2780, -0.2053],\n         [ 0.6091,  1.8698,  0.8575,  ...,  0.4661, -0.2995, -0.2877]],\n\n        [[ 0.2070,  2.3126,  1.2083,  ...,  0.2765, -0.3651,  0.6660],\n         [ 0.2703,  1.8338,  0.7728,  ...,  0.7957, -0.3654,  0.5961],\n         [ 0.7828,  1.8706,  0.4243,  ...,  0.7447, -0.2574, -0.0853],\n         [ 0.7069,  1.9912,  0.7991,  ...,  0.4973, -0.4264, -0.4320]]],\n       device='cuda:0'), tensor([[[-0.4897,  0.1335,  0.0749,  ..., -0.1607, -0.0305,  0.4867],\n         [-1.0813, -0.1580, -0.4433,  ...,  0.2021,  0.3975,  0.6989],\n         [-0.8723,  0.1697, -0.4275,  ...,  0.5468, -0.4731,  0.3635],\n         [-1.2506, -0.0593, -0.8625,  ...,  0.9652, -0.3568, -0.0342]],\n\n        [[ 0.3875,  0.2184,  0.1775,  ..., -0.5373, -0.6325, -0.3548],\n         [ 0.1807,  0.2652, -2.3367,  ...,  0.0229, -1.6702,  0.0966],\n         [ 0.0527, -0.8736, -1.0291,  ..., -0.8135, -2.0439,  0.8902],\n         [ 0.3899, -0.0371, -1.0378,  ...,  0.1506, -0.7957, -0.2066]],\n\n        [[ 0.9493,  1.4626, -0.9563,  ..., -1.0627, -0.5095, -0.1487],\n         [-0.3304,  0.2147, -1.1590,  ...,  0.1351, -1.0785, -0.7125],\n         [ 0.2381,  0.9976, -0.1699,  ..., -0.3498, -1.0799,  0.5039],\n         [ 0.3418, -0.2354, -0.6718,  ...,  0.5258, -0.9299, -0.3088]],\n\n        ...,\n\n        [[ 0.4760,  1.4939,  1.4411,  ..., -0.0737, -0.0025,  0.2783],\n         [ 0.3336,  1.3849,  1.1646,  ...,  0.4362, -0.0745,  0.0700],\n         [ 0.8143,  1.2066,  0.4328,  ..., -0.1024, -0.5667, -0.2126],\n         [ 0.6186,  0.9610,  0.5680,  ..., -0.4502, -0.3837,  0.0589]],\n\n        [[ 0.5135,  1.4877,  1.4246,  ..., -0.1133,  0.0129,  0.2962],\n         [ 0.3169,  1.3397,  1.1407,  ...,  0.4325, -0.0820,  0.1045],\n         [ 0.8013,  1.3239,  0.3402,  ..., -0.0309, -0.3628, -0.2266],\n         [ 0.7508,  0.9975,  0.5927,  ..., -0.4634, -0.3295,  0.0237]],\n\n        [[ 0.5188,  1.4637,  1.4452,  ..., -0.1250, -0.0116,  0.2783],\n         [ 0.3239,  1.3192,  1.1370,  ...,  0.3996, -0.1503,  0.0940],\n         [ 0.8793,  1.3989,  0.3275,  ...,  0.1283, -0.3178, -0.1064],\n         [ 0.8288,  1.0068,  0.6033,  ..., -0.4552, -0.2420, -0.0088]]],\n       device='cuda:0'), tensor([[[-6.3473e-01,  7.9433e-02,  1.9289e-01,  ..., -7.2882e-02,\n           3.8688e-02, -1.3700e-01],\n         [-1.1540e+00, -2.1911e-01, -4.0162e-01,  ...,  2.9474e-01,\n           5.2596e-01,  3.1627e-01],\n         [-6.9656e-01, -1.1358e-01,  1.8312e-01,  ...,  1.3395e-01,\n          -4.1355e-01, -2.2509e-01],\n         [-1.4951e+00,  4.8487e-01, -5.6539e-01,  ...,  5.4696e-01,\n          -6.5472e-01,  1.0645e-01]],\n\n        [[ 8.2131e-01,  3.6243e-01,  1.8480e-01,  ..., -5.5894e-01,\n          -9.7345e-01, -6.0718e-01],\n         [ 6.1275e-01,  4.0393e-01, -2.7552e+00,  ...,  2.9504e-01,\n          -1.9664e+00,  3.3124e-01],\n         [ 4.4693e-02, -4.7990e-01, -8.1607e-01,  ..., -1.0282e+00,\n          -2.1871e+00,  4.7099e-02],\n         [-2.6658e-01, -2.7721e-02, -6.9726e-01,  ...,  6.6100e-01,\n          -6.7764e-01, -1.8980e-02]],\n\n        [[ 1.0365e+00,  1.4066e+00, -1.5660e+00,  ..., -7.4140e-01,\n          -4.7942e-01, -1.7268e-01],\n         [-7.4296e-02, -1.2409e-01, -1.3566e+00,  ...,  5.4175e-01,\n          -1.1228e+00, -8.4500e-01],\n         [ 4.6468e-01,  1.9765e+00, -3.7404e-01,  ..., -7.2506e-01,\n          -1.1947e+00,  4.0949e-01],\n         [ 1.3802e-01,  2.7417e-02, -1.2711e-01,  ...,  7.6848e-01,\n          -3.3748e-01, -3.3807e-01]],\n\n        ...,\n\n        [[ 3.7978e-01,  1.6329e+00,  1.7778e+00,  ...,  1.4595e-01,\n           3.0125e-01,  2.3545e-01],\n         [ 2.7011e-01,  1.4597e+00,  1.4078e+00,  ...,  5.3427e-01,\n           2.8702e-02, -4.1242e-02],\n         [ 9.2547e-02,  1.2285e+00,  8.0845e-01,  ..., -9.6084e-02,\n          -2.4787e-01,  6.5558e-02],\n         [ 3.4410e-01,  1.6080e+00,  5.5140e-01,  ...,  2.3203e-02,\n          -1.5575e-01,  6.0268e-01]],\n\n        [[ 3.8601e-01,  1.6279e+00,  1.7501e+00,  ...,  1.0454e-01,\n           3.2662e-01,  2.5670e-01],\n         [ 2.4439e-01,  1.4106e+00,  1.3932e+00,  ...,  5.3601e-01,\n           1.9065e-02, -1.7569e-03],\n         [ 1.1468e-01,  1.4158e+00,  6.9650e-01,  ..., -1.2404e-01,\n          -1.7019e-02,  4.1645e-02],\n         [ 4.5020e-01,  1.5658e+00,  5.9521e-01,  ..., -7.6276e-02,\n          -7.9967e-02,  7.5119e-01]],\n\n        [[ 3.9463e-01,  1.6311e+00,  1.7280e+00,  ...,  7.6817e-02,\n           3.3109e-01,  2.0186e-01],\n         [ 2.3625e-01,  1.3964e+00,  1.4000e+00,  ...,  4.7977e-01,\n          -5.3854e-02, -6.6624e-03],\n         [ 2.5311e-01,  1.5370e+00,  6.2905e-01,  ...,  3.0723e-02,\n           2.0406e-02,  1.0608e-01],\n         [ 5.3791e-01,  1.4832e+00,  6.0439e-01,  ..., -1.3302e-01,\n           8.5763e-02,  8.7096e-01]]], device='cuda:0'), tensor([[[-2.5712e-01, -1.0337e-01,  2.8824e-01,  ..., -2.1599e-01,\n           2.0609e-02, -3.0072e-01],\n         [-3.8631e-01, -3.8168e-01, -1.7047e-01,  ...,  1.8210e-01,\n           1.9086e-01, -2.2075e-01],\n         [-5.3307e-01, -4.5667e-01,  4.3356e-01,  ...,  5.8455e-02,\n           9.8594e-04, -2.6879e-01],\n         [-1.0664e+00,  2.7220e-01,  4.2807e-01,  ...,  4.4631e-01,\n           6.1533e-01,  6.1460e-02]],\n\n        [[ 6.9527e-01, -5.0179e-02,  1.4047e-01,  ..., -2.4763e-02,\n          -5.2867e-01, -4.1576e-01],\n         [ 5.1018e-01,  5.5427e-02, -1.4566e+00,  ...,  5.7845e-01,\n          -1.4900e+00,  4.4255e-01],\n         [ 1.2788e-01, -3.6569e-01,  3.3391e-01,  ..., -6.0936e-01,\n          -1.8078e+00,  5.4471e-01],\n         [-8.6386e-02, -2.2514e-01,  4.9244e-01,  ...,  8.9095e-01,\n          -8.6995e-02, -2.6744e-01]],\n\n        [[ 5.4332e-01,  6.4228e-01, -7.2992e-01,  ..., -2.2658e-01,\n          -1.4167e-02, -1.3944e-01],\n         [ 7.4834e-02, -5.7588e-01, -6.1832e-01,  ...,  6.8993e-01,\n          -1.1970e+00, -3.7810e-01],\n         [ 4.0764e-01,  1.1725e+00, -1.2531e-01,  ..., -6.5696e-01,\n          -7.2548e-01,  3.4312e-01],\n         [-2.2222e-01,  4.0283e-02,  5.4176e-01,  ...,  1.0557e+00,\n          -1.5903e-01, -5.4943e-01]],\n\n        ...,\n\n        [[ 5.5027e-01,  9.6607e-01,  1.1428e+00,  ..., -1.3071e-01,\n           2.5624e-01,  1.7879e-01],\n         [ 4.5415e-01,  1.0139e+00,  8.7063e-01,  ..., -3.6643e-03,\n           1.6816e-01, -2.0193e-01],\n         [ 3.1150e-01,  6.3524e-01,  7.2877e-01,  ..., -4.9777e-01,\n          -1.9967e-02,  7.0589e-02],\n         [ 6.1046e-01,  9.6203e-01,  7.8165e-01,  ...,  1.5860e-01,\n           1.5476e-01,  3.0928e-01]],\n\n        [[ 5.5304e-01,  9.4969e-01,  1.1454e+00,  ..., -1.3487e-01,\n           3.0217e-01,  2.0633e-01],\n         [ 4.3034e-01,  9.9023e-01,  8.5706e-01,  ..., -8.3094e-03,\n           1.6563e-01, -1.7342e-01],\n         [ 3.0931e-01,  7.6447e-01,  6.0925e-01,  ..., -3.9773e-01,\n           8.9381e-02,  5.3470e-02],\n         [ 7.3365e-01,  9.4715e-01,  6.6929e-01,  ...,  1.5129e-01,\n           2.5868e-01,  4.0428e-01]],\n\n        [[ 5.6089e-01,  9.7283e-01,  1.1429e+00,  ..., -1.2463e-01,\n           3.0169e-01,  1.5464e-01],\n         [ 4.2265e-01,  9.8109e-01,  8.6146e-01,  ..., -6.3592e-02,\n           1.3621e-01, -1.7126e-01],\n         [ 3.8628e-01,  8.3250e-01,  5.4917e-01,  ..., -2.8129e-01,\n           8.5572e-02,  7.7514e-02],\n         [ 8.6635e-01,  8.7680e-01,  5.8223e-01,  ...,  1.4881e-01,\n           4.4825e-01,  5.1366e-01]]], device='cuda:0')), hidden_states=None, attentions=None)"
          },
          "metadata": {}
        }
      ]
    },
    {
      "cell_type": "code",
      "source": [
        "type(outputs[0])"
      ],
      "metadata": {
        "id": "zbyJNtqVkg4Y",
        "outputId": "207c8486-99f7-4ae7-d930-dde9419dd99f",
        "colab": {
          "base_uri": "https://localhost:8080/",
          "height": 33
        },
        "execution": {
          "iopub.status.busy": "2023-04-26T06:16:00.786303Z",
          "iopub.execute_input": "2023-04-26T06:16:00.787741Z",
          "iopub.status.idle": "2023-04-26T06:16:00.798212Z",
          "shell.execute_reply.started": "2023-04-26T06:16:00.787691Z",
          "shell.execute_reply": "2023-04-26T06:16:00.797361Z"
        },
        "trusted": true
      },
      "execution_count": null,
      "outputs": [
        {
          "execution_count": 45,
          "output_type": "execute_result",
          "data": {
            "text/plain": "torch.Tensor"
          },
          "metadata": {}
        }
      ]
    },
    {
      "cell_type": "markdown",
      "source": [
        "### Defining the training step function"
      ],
      "metadata": {
        "id": "eg44cHnNLd3J"
      }
    },
    {
      "cell_type": "code",
      "source": [
        "from sklearn import metrics\n",
        "def train_epoch(model, data_loader, optimizer, device, scheduler, n_examples):\n",
        "    model = model.train()\n",
        "    losses = []\n",
        "    acc = 0\n",
        "    counter = 0\n",
        "  \n",
        "    for d in data_loader:\n",
        "        input_ids = d[\"input_ids\"].reshape(4,512).to(device)\n",
        "        attention_mask = d[\"attention_mask\"].to(device)\n",
        "        targets = d[\"targets\"].to(device)\n",
        "        \n",
        "        outputs = model(input_ids=input_ids, token_type_ids=None, attention_mask=attention_mask, labels = targets)\n",
        "        loss = outputs[0]\n",
        "        logits = outputs[1]\n",
        "\n",
        "        # preds = preds.cpu().detach().numpy()\n",
        "        _, prediction = torch.max(outputs[1], dim=1)\n",
        "        targets = targets.cpu().detach().numpy()\n",
        "        prediction = prediction.cpu().detach().numpy()\n",
        "        accuracy = metrics.accuracy_score(targets, prediction)\n",
        "\n",
        "        acc += accuracy\n",
        "        losses.append(loss.item())\n",
        "        \n",
        "        loss.backward()\n",
        "\n",
        "        nn.utils.clip_grad_norm_(model.parameters(), max_norm=1.0)\n",
        "        optimizer.step()\n",
        "        scheduler.step()\n",
        "        optimizer.zero_grad()\n",
        "        counter = counter + 1\n",
        "\n",
        "    return acc / counter, np.mean(losses)"
      ],
      "metadata": {
        "id": "tPnWttRNMArt",
        "execution": {
          "iopub.status.busy": "2023-04-26T06:16:02.841312Z",
          "iopub.execute_input": "2023-04-26T06:16:02.842266Z",
          "iopub.status.idle": "2023-04-26T06:16:02.853865Z",
          "shell.execute_reply.started": "2023-04-26T06:16:02.842211Z",
          "shell.execute_reply": "2023-04-26T06:16:02.852880Z"
        },
        "trusted": true
      },
      "execution_count": null,
      "outputs": []
    },
    {
      "cell_type": "markdown",
      "source": [
        "### Defining the evaluation function"
      ],
      "metadata": {
        "id": "4N2ktqT8LoDS"
      }
    },
    {
      "cell_type": "code",
      "source": [
        "def eval_model(model, data_loader, device, n_examples):\n",
        "    model = model.eval()\n",
        "    losses = []\n",
        "    acc = 0\n",
        "    counter = 0\n",
        "  \n",
        "    with torch.no_grad():\n",
        "        for d in data_loader:\n",
        "            input_ids = d[\"input_ids\"].reshape(4,512).to(device)\n",
        "            attention_mask = d[\"attention_mask\"].to(device)\n",
        "            targets = d[\"targets\"].to(device)\n",
        "            \n",
        "            outputs = model(input_ids=input_ids, token_type_ids=None, attention_mask=attention_mask, labels = targets)\n",
        "            loss = outputs[0]\n",
        "            logits = outputs[1]\n",
        "\n",
        "            _, prediction = torch.max(outputs[1], dim=1)\n",
        "            targets = targets.cpu().detach().numpy()\n",
        "            prediction = prediction.cpu().detach().numpy()\n",
        "            accuracy = metrics.accuracy_score(targets, prediction)\n",
        "\n",
        "            acc += accuracy\n",
        "            losses.append(loss.item())\n",
        "            counter += 1\n",
        "\n",
        "    return acc / counter, np.mean(losses)"
      ],
      "metadata": {
        "id": "V_ZyoJ4qb-CB",
        "execution": {
          "iopub.status.busy": "2023-04-26T06:16:04.903466Z",
          "iopub.execute_input": "2023-04-26T06:16:04.903857Z",
          "iopub.status.idle": "2023-04-26T06:16:04.913140Z",
          "shell.execute_reply.started": "2023-04-26T06:16:04.903800Z",
          "shell.execute_reply": "2023-04-26T06:16:04.912074Z"
        },
        "trusted": true
      },
      "execution_count": null,
      "outputs": []
    },
    {
      "cell_type": "markdown",
      "source": [
        "### Fine-tuning the pre-trained model"
      ],
      "metadata": {
        "id": "9AG1TE43LvkX"
      }
    },
    {
      "cell_type": "code",
      "source": [
        "%%time\n",
        "history = defaultdict(list)\n",
        "best_accuracy = 0\n",
        "\n",
        "for epoch in range(EPOCHS):\n",
        "    print(f'Epoch {epoch + 1}/{EPOCHS}')\n",
        "    print('-' * 10)\n",
        "\n",
        "    train_acc, train_loss = train_epoch(\n",
        "        model,\n",
        "        train_data_loader,     \n",
        "        optimizer, \n",
        "        device, \n",
        "        scheduler, \n",
        "        len(df_train)\n",
        "    )\n",
        "\n",
        "    print(f'Train loss {train_loss} Train accuracy {train_acc}')\n",
        "\n",
        "    val_acc, val_loss = eval_model(\n",
        "        model,\n",
        "        val_data_loader, \n",
        "        device, \n",
        "        len(df_val)\n",
        "    )\n",
        "\n",
        "    print(f'Val loss {val_loss} Val accuracy {val_acc}')\n",
        "    print()\n",
        "\n",
        "    history['train_acc'].append(train_acc)\n",
        "    history['train_loss'].append(train_loss)\n",
        "    history['val_acc'].append(val_acc)\n",
        "    history['val_loss'].append(val_loss)\n",
        "\n",
        "    if val_acc > best_accuracy:\n",
        "        torch.save(model.state_dict(), 'xlnet_model.bin')\n",
        "        best_accuracy = val_acc"
      ],
      "metadata": {
        "id": "eNSQSFkScp6f",
        "outputId": "1970b1cb-c420-406d-d5e0-a7f490e45500",
        "colab": {
          "base_uri": "https://localhost:8080/",
          "height": 301
        },
        "execution": {
          "iopub.status.busy": "2023-04-26T06:17:18.822337Z",
          "iopub.execute_input": "2023-04-26T06:17:18.822713Z",
          "iopub.status.idle": "2023-04-26T07:26:04.897663Z",
          "shell.execute_reply.started": "2023-04-26T06:17:18.822681Z",
          "shell.execute_reply": "2023-04-26T07:26:04.895893Z"
        },
        "trusted": true
      },
      "execution_count": null,
      "outputs": [
        {
          "name": "stdout",
          "text": "Epoch 1/3\n----------\n",
          "output_type": "stream"
        },
        {
          "name": "stderr",
          "text": "/opt/conda/lib/python3.7/site-packages/torch/utils/data/dataloader.py:557: UserWarning: This DataLoader will create 4 worker processes in total. Our suggested max number of worker in current system is 2, which is smaller than what this DataLoader is going to create. Please be aware that excessive worker creation might get DataLoader running slow or even freeze, lower the worker number to avoid potential slowness/freeze if necessary.\n  cpuset_checked))\n",
          "output_type": "stream"
        },
        {
          "name": "stdout",
          "text": "Train loss 0.4244402654830386 Train accuracy 0.90225\n",
          "output_type": "stream"
        },
        {
          "name": "stderr",
          "text": "/opt/conda/lib/python3.7/site-packages/torch/utils/data/dataloader.py:557: UserWarning: This DataLoader will create 4 worker processes in total. Our suggested max number of worker in current system is 2, which is smaller than what this DataLoader is going to create. Please be aware that excessive worker creation might get DataLoader running slow or even freeze, lower the worker number to avoid potential slowness/freeze if necessary.\n  cpuset_checked))\n",
          "output_type": "stream"
        },
        {
          "name": "stdout",
          "text": "Val loss 0.37691445398431583 Val accuracy 0.9183333333333333\n\nEpoch 2/3\n----------\n",
          "output_type": "stream"
        },
        {
          "name": "stderr",
          "text": "/opt/conda/lib/python3.7/site-packages/torch/utils/data/dataloader.py:557: UserWarning: This DataLoader will create 4 worker processes in total. Our suggested max number of worker in current system is 2, which is smaller than what this DataLoader is going to create. Please be aware that excessive worker creation might get DataLoader running slow or even freeze, lower the worker number to avoid potential slowness/freeze if necessary.\n  cpuset_checked))\n",
          "output_type": "stream"
        },
        {
          "name": "stdout",
          "text": "Train loss 0.23305537310393024 Train accuracy 0.9539166666666666\n",
          "output_type": "stream"
        },
        {
          "name": "stderr",
          "text": "/opt/conda/lib/python3.7/site-packages/torch/utils/data/dataloader.py:557: UserWarning: This DataLoader will create 4 worker processes in total. Our suggested max number of worker in current system is 2, which is smaller than what this DataLoader is going to create. Please be aware that excessive worker creation might get DataLoader running slow or even freeze, lower the worker number to avoid potential slowness/freeze if necessary.\n  cpuset_checked))\n",
          "output_type": "stream"
        },
        {
          "name": "stdout",
          "text": "Val loss 0.37226895018690265 Val accuracy 0.9326666666666666\n\nEpoch 3/3\n----------\n",
          "output_type": "stream"
        },
        {
          "name": "stderr",
          "text": "/opt/conda/lib/python3.7/site-packages/torch/utils/data/dataloader.py:557: UserWarning: This DataLoader will create 4 worker processes in total. Our suggested max number of worker in current system is 2, which is smaller than what this DataLoader is going to create. Please be aware that excessive worker creation might get DataLoader running slow or even freeze, lower the worker number to avoid potential slowness/freeze if necessary.\n  cpuset_checked))\n",
          "output_type": "stream"
        },
        {
          "name": "stdout",
          "text": "Train loss 0.1135817180230418 Train accuracy 0.9799166666666667\n",
          "output_type": "stream"
        },
        {
          "name": "stderr",
          "text": "/opt/conda/lib/python3.7/site-packages/torch/utils/data/dataloader.py:557: UserWarning: This DataLoader will create 4 worker processes in total. Our suggested max number of worker in current system is 2, which is smaller than what this DataLoader is going to create. Please be aware that excessive worker creation might get DataLoader running slow or even freeze, lower the worker number to avoid potential slowness/freeze if necessary.\n  cpuset_checked))\n",
          "output_type": "stream"
        },
        {
          "name": "stdout",
          "text": "Val loss 0.38469737554118427 Val accuracy 0.9358333333333333\n\nCPU times: user 55min 56s, sys: 12min 13s, total: 1h 8min 9s\nWall time: 1h 8min 46s\n",
          "output_type": "stream"
        }
      ]
    },
    {
      "cell_type": "markdown",
      "source": [
        "### Evaluation of the fine-tuned model"
      ],
      "metadata": {
        "id": "qe08GjtNL-Sh"
      }
    },
    {
      "cell_type": "code",
      "source": [
        "model.load_state_dict(torch.load('/kaggle/working/xlnet_model.bin'))"
      ],
      "metadata": {
        "id": "XqtQkz2yrZE3",
        "outputId": "b57d0042-0a00-4ae0-e177-3ebc889e29f8",
        "colab": {
          "base_uri": "https://localhost:8080/",
          "height": 33
        },
        "execution": {
          "iopub.status.busy": "2023-04-26T07:26:44.649538Z",
          "iopub.execute_input": "2023-04-26T07:26:44.649986Z",
          "iopub.status.idle": "2023-04-26T07:26:44.987864Z",
          "shell.execute_reply.started": "2023-04-26T07:26:44.649942Z",
          "shell.execute_reply": "2023-04-26T07:26:44.986604Z"
        },
        "trusted": true
      },
      "execution_count": null,
      "outputs": [
        {
          "execution_count": 50,
          "output_type": "execute_result",
          "data": {
            "text/plain": "<All keys matched successfully>"
          },
          "metadata": {}
        }
      ]
    },
    {
      "cell_type": "code",
      "source": [
        "model = model.to(device)"
      ],
      "metadata": {
        "id": "26k0PMpdy1QT",
        "execution": {
          "iopub.status.busy": "2023-04-26T07:26:45.963495Z",
          "iopub.execute_input": "2023-04-26T07:26:45.963910Z",
          "iopub.status.idle": "2023-04-26T07:26:45.975950Z",
          "shell.execute_reply.started": "2023-04-26T07:26:45.963867Z",
          "shell.execute_reply": "2023-04-26T07:26:45.974681Z"
        },
        "trusted": true
      },
      "execution_count": null,
      "outputs": []
    },
    {
      "cell_type": "code",
      "source": [
        "test_acc, test_loss = eval_model(\n",
        "  model,\n",
        "  test_data_loader,\n",
        "  device,\n",
        "  len(df_test)\n",
        ")\n",
        "\n",
        "print('Test Accuracy :', test_acc)\n",
        "print('Test Loss :', test_loss)"
      ],
      "metadata": {
        "id": "QHINzx6ezSD0",
        "outputId": "48dd67b6-d26d-45cf-aeff-4c7eda62e5e5",
        "colab": {
          "base_uri": "https://localhost:8080/",
          "height": 50
        },
        "execution": {
          "iopub.status.busy": "2023-04-26T07:26:47.105706Z",
          "iopub.execute_input": "2023-04-26T07:26:47.106452Z",
          "iopub.status.idle": "2023-04-26T07:30:39.025688Z",
          "shell.execute_reply.started": "2023-04-26T07:26:47.106413Z",
          "shell.execute_reply": "2023-04-26T07:30:39.024319Z"
        },
        "trusted": true
      },
      "execution_count": null,
      "outputs": [
        {
          "name": "stderr",
          "text": "/opt/conda/lib/python3.7/site-packages/torch/utils/data/dataloader.py:557: UserWarning: This DataLoader will create 4 worker processes in total. Our suggested max number of worker in current system is 2, which is smaller than what this DataLoader is going to create. Please be aware that excessive worker creation might get DataLoader running slow or even freeze, lower the worker number to avoid potential slowness/freeze if necessary.\n  cpuset_checked))\n",
          "output_type": "stream"
        },
        {
          "name": "stdout",
          "text": "Test Accuracy : 0.9323333333333333\nTest Loss : 0.3976646751065079\n",
          "output_type": "stream"
        }
      ]
    },
    {
      "cell_type": "code",
      "source": [
        "def get_predictions(model, data_loader):\n",
        "    model = model.eval()\n",
        "    \n",
        "    review_texts = []\n",
        "    predictions = []\n",
        "    prediction_probs = []\n",
        "    real_values = []\n",
        "\n",
        "    with torch.no_grad():\n",
        "        for d in data_loader:\n",
        "\n",
        "            texts = d[\"review_text\"]\n",
        "            input_ids = d[\"input_ids\"].reshape(4,512).to(device)\n",
        "            attention_mask = d[\"attention_mask\"].to(device)\n",
        "            targets = d[\"targets\"].to(device)\n",
        "            \n",
        "            outputs = model(input_ids=input_ids, token_type_ids=None, attention_mask=attention_mask, labels = targets)\n",
        "\n",
        "            loss = outputs[0]\n",
        "            logits = outputs[1]\n",
        "            \n",
        "            _, preds = torch.max(outputs[1], dim=1)\n",
        "\n",
        "            probs = F.softmax(outputs[1], dim=1)\n",
        "\n",
        "            review_texts.extend(texts)\n",
        "            predictions.extend(preds)\n",
        "            prediction_probs.extend(probs)\n",
        "            real_values.extend(targets)\n",
        "\n",
        "    predictions = torch.stack(predictions).cpu()\n",
        "    prediction_probs = torch.stack(prediction_probs).cpu()\n",
        "    real_values = torch.stack(real_values).cpu()\n",
        "    return review_texts, predictions, prediction_probs, real_values"
      ],
      "metadata": {
        "id": "NBWsLq4yzubR",
        "execution": {
          "iopub.status.busy": "2023-04-26T07:30:44.823442Z",
          "iopub.execute_input": "2023-04-26T07:30:44.823865Z",
          "iopub.status.idle": "2023-04-26T07:30:44.833542Z",
          "shell.execute_reply.started": "2023-04-26T07:30:44.823798Z",
          "shell.execute_reply": "2023-04-26T07:30:44.832378Z"
        },
        "trusted": true
      },
      "execution_count": null,
      "outputs": []
    },
    {
      "cell_type": "code",
      "source": [
        "y_review_texts, y_pred, y_pred_probs, y_test = get_predictions(\n",
        "  model,\n",
        "  test_data_loader\n",
        ")"
      ],
      "metadata": {
        "id": "hwCQaTFH5KWy",
        "execution": {
          "iopub.status.busy": "2023-04-26T07:30:46.940644Z",
          "iopub.execute_input": "2023-04-26T07:30:46.941650Z",
          "iopub.status.idle": "2023-04-26T07:34:32.667840Z",
          "shell.execute_reply.started": "2023-04-26T07:30:46.941610Z",
          "shell.execute_reply": "2023-04-26T07:34:32.666477Z"
        },
        "trusted": true,
        "outputId": "7e12a17a-b5cb-4b9b-8e9f-97e58a83f1dc"
      },
      "execution_count": null,
      "outputs": [
        {
          "name": "stderr",
          "text": "/opt/conda/lib/python3.7/site-packages/torch/utils/data/dataloader.py:557: UserWarning: This DataLoader will create 4 worker processes in total. Our suggested max number of worker in current system is 2, which is smaller than what this DataLoader is going to create. Please be aware that excessive worker creation might get DataLoader running slow or even freeze, lower the worker number to avoid potential slowness/freeze if necessary.\n  cpuset_checked))\n",
          "output_type": "stream"
        }
      ]
    },
    {
      "cell_type": "code",
      "source": [
        "print(classification_report(y_test, y_pred, target_names=class_names))"
      ],
      "metadata": {
        "id": "wviSSrIP5Pvl",
        "outputId": "87c89f11-e95b-4fdd-adf7-5601732d5080",
        "colab": {
          "base_uri": "https://localhost:8080/",
          "height": 167
        },
        "execution": {
          "iopub.status.busy": "2023-04-26T07:34:32.671079Z",
          "iopub.execute_input": "2023-04-26T07:34:32.671497Z",
          "iopub.status.idle": "2023-04-26T07:34:32.691681Z",
          "shell.execute_reply.started": "2023-04-26T07:34:32.671453Z",
          "shell.execute_reply": "2023-04-26T07:34:32.690576Z"
        },
        "trusted": true
      },
      "execution_count": null,
      "outputs": [
        {
          "name": "stdout",
          "text": "              precision    recall  f1-score   support\n\n    negative       0.93      0.94      0.93      3049\n    positive       0.93      0.93      0.93      2951\n\n    accuracy                           0.93      6000\n   macro avg       0.93      0.93      0.93      6000\nweighted avg       0.93      0.93      0.93      6000\n\n",
          "output_type": "stream"
        }
      ]
    }
  ]
}